{
 "cells": [
  {
   "cell_type": "markdown",
   "id": "c5593a0b",
   "metadata": {},
   "source": [
    "## 가설검정\n",
    "1. T-test : 모평균 비교에 관한 가설검정\n",
    "2. One-Way Anova: 모평균 비교에 관한 가설검정\n",
    "3. F-test : 모분산 비교에 관한 가설검정\n",
    "4. Chi-test : 범주형 변수 간의 독립성 검정\n",
    "\n",
    "- corr : 상관분석"
   ]
  },
  {
   "cell_type": "code",
   "execution_count": 1,
   "id": "04593f65",
   "metadata": {},
   "outputs": [],
   "source": [
    "import pandas as pd\n",
    "import numpy as np\n",
    "import scipy, re, warnings "
   ]
  },
  {
   "cell_type": "markdown",
   "id": "2eac355a",
   "metadata": {},
   "source": [
    "### 샘플 1번"
   ]
  },
  {
   "cell_type": "code",
   "execution_count": 3,
   "id": "06259f26",
   "metadata": {},
   "outputs": [
    {
     "data": {
      "text/html": [
       "<div>\n",
       "<style scoped>\n",
       "    .dataframe tbody tr th:only-of-type {\n",
       "        vertical-align: middle;\n",
       "    }\n",
       "\n",
       "    .dataframe tbody tr th {\n",
       "        vertical-align: top;\n",
       "    }\n",
       "\n",
       "    .dataframe thead th {\n",
       "        text-align: right;\n",
       "    }\n",
       "</style>\n",
       "<table border=\"1\" class=\"dataframe\">\n",
       "  <thead>\n",
       "    <tr style=\"text-align: right;\">\n",
       "      <th></th>\n",
       "      <th>YEAR_MONTH</th>\n",
       "      <th>SOCIAL</th>\n",
       "      <th>TV</th>\n",
       "      <th>NEWSPAPER</th>\n",
       "      <th>SALES_AMT</th>\n",
       "    </tr>\n",
       "  </thead>\n",
       "  <tbody>\n",
       "    <tr>\n",
       "      <th>0</th>\n",
       "      <td>2005-Dec</td>\n",
       "      <td>84.72</td>\n",
       "      <td>19.20</td>\n",
       "      <td>48.96</td>\n",
       "      <td>14.28</td>\n",
       "    </tr>\n",
       "    <tr>\n",
       "      <th>1</th>\n",
       "      <td>2006-Jan</td>\n",
       "      <td>351.48</td>\n",
       "      <td>33.96</td>\n",
       "      <td>51.84</td>\n",
       "      <td>11.52</td>\n",
       "    </tr>\n",
       "    <tr>\n",
       "      <th>2</th>\n",
       "      <td>2006-Feb</td>\n",
       "      <td>135.48</td>\n",
       "      <td>20.88</td>\n",
       "      <td>46.32</td>\n",
       "      <td>20.88</td>\n",
       "    </tr>\n",
       "    <tr>\n",
       "      <th>3</th>\n",
       "      <td>2006-Mar</td>\n",
       "      <td>116.64</td>\n",
       "      <td>1.80</td>\n",
       "      <td>36.00</td>\n",
       "      <td>11.40</td>\n",
       "    </tr>\n",
       "    <tr>\n",
       "      <th>4</th>\n",
       "      <td>2006-Apr</td>\n",
       "      <td>318.72</td>\n",
       "      <td>24.00</td>\n",
       "      <td>0.36</td>\n",
       "      <td>15.36</td>\n",
       "    </tr>\n",
       "  </tbody>\n",
       "</table>\n",
       "</div>"
      ],
      "text/plain": [
       "  YEAR_MONTH  SOCIAL     TV  NEWSPAPER  SALES_AMT\n",
       "0   2005-Dec   84.72  19.20      48.96      14.28\n",
       "1   2006-Jan  351.48  33.96      51.84      11.52\n",
       "2   2006-Feb  135.48  20.88      46.32      20.88\n",
       "3   2006-Mar  116.64   1.80      36.00      11.40\n",
       "4   2006-Apr  318.72  24.00       0.36      15.36"
      ]
     },
     "execution_count": 3,
     "metadata": {},
     "output_type": "execute_result"
    }
   ],
   "source": [
    "df = pd.read_csv('01_ADS_Sample_1.csv')\n",
    "df.head()"
   ]
  },
  {
   "cell_type": "code",
   "execution_count": 4,
   "id": "4890db83",
   "metadata": {},
   "outputs": [
    {
     "data": {
      "text/plain": [
       "Index(['YEAR_MONTH', 'SOCIAL', 'TV', 'NEWSPAPER', 'SALES_AMT'], dtype='object')"
      ]
     },
     "execution_count": 4,
     "metadata": {},
     "output_type": "execute_result"
    }
   ],
   "source": [
    "df.columns"
   ]
  },
  {
   "cell_type": "code",
   "execution_count": 5,
   "id": "550df06d",
   "metadata": {},
   "outputs": [
    {
     "data": {
      "text/html": [
       "<div>\n",
       "<style scoped>\n",
       "    .dataframe tbody tr th:only-of-type {\n",
       "        vertical-align: middle;\n",
       "    }\n",
       "\n",
       "    .dataframe tbody tr th {\n",
       "        vertical-align: top;\n",
       "    }\n",
       "\n",
       "    .dataframe thead th {\n",
       "        text-align: right;\n",
       "    }\n",
       "</style>\n",
       "<table border=\"1\" class=\"dataframe\">\n",
       "  <thead>\n",
       "    <tr style=\"text-align: right;\">\n",
       "      <th></th>\n",
       "      <th>SALES_AMT</th>\n",
       "    </tr>\n",
       "  </thead>\n",
       "  <tbody>\n",
       "    <tr>\n",
       "      <th>SOCIAL</th>\n",
       "      <td>0.037020</td>\n",
       "    </tr>\n",
       "    <tr>\n",
       "      <th>TV</th>\n",
       "      <td>-0.183192</td>\n",
       "    </tr>\n",
       "    <tr>\n",
       "      <th>NEWSPAPER</th>\n",
       "      <td>0.002282</td>\n",
       "    </tr>\n",
       "    <tr>\n",
       "      <th>SALES_AMT</th>\n",
       "      <td>1.000000</td>\n",
       "    </tr>\n",
       "  </tbody>\n",
       "</table>\n",
       "</div>"
      ],
      "text/plain": [
       "           SALES_AMT\n",
       "SOCIAL      0.037020\n",
       "TV         -0.183192\n",
       "NEWSPAPER   0.002282\n",
       "SALES_AMT   1.000000"
      ]
     },
     "execution_count": 5,
     "metadata": {},
     "output_type": "execute_result"
    }
   ],
   "source": [
    "a = df[['SOCIAL', 'TV', 'NEWSPAPER', 'SALES_AMT']].corr()\n",
    "a[['SALES_AMT']]\n",
    "# 매출금액(SALES_AMT)과 상관 정도가 가장 강한 변수를 찾고 \n",
    "# 해당 변수와 매출금액(SALES_AMT)과의 상관계수 값을 기술하시오. (배점 5점)\n",
    "\n",
    "# TV, -0.183"
   ]
  },
  {
   "cell_type": "markdown",
   "id": "743384cc",
   "metadata": {},
   "source": [
    "### 샘플 2번"
   ]
  },
  {
   "cell_type": "code",
   "execution_count": 6,
   "id": "b689ced6",
   "metadata": {},
   "outputs": [
    {
     "data": {
      "text/html": [
       "<div>\n",
       "<style scoped>\n",
       "    .dataframe tbody tr th:only-of-type {\n",
       "        vertical-align: middle;\n",
       "    }\n",
       "\n",
       "    .dataframe tbody tr th {\n",
       "        vertical-align: top;\n",
       "    }\n",
       "\n",
       "    .dataframe thead th {\n",
       "        text-align: right;\n",
       "    }\n",
       "</style>\n",
       "<table border=\"1\" class=\"dataframe\">\n",
       "  <thead>\n",
       "    <tr style=\"text-align: right;\">\n",
       "      <th></th>\n",
       "      <th>YEAR_MONTH</th>\n",
       "      <th>SOCIAL</th>\n",
       "      <th>TV</th>\n",
       "      <th>NEWSPAPER</th>\n",
       "      <th>SALES_AMT</th>\n",
       "      <th>year</th>\n",
       "      <th>month</th>\n",
       "    </tr>\n",
       "  </thead>\n",
       "  <tbody>\n",
       "    <tr>\n",
       "      <th>0</th>\n",
       "      <td>2005-Dec</td>\n",
       "      <td>84.72</td>\n",
       "      <td>19.20</td>\n",
       "      <td>48.96</td>\n",
       "      <td>14.28</td>\n",
       "      <td>2005</td>\n",
       "      <td>Dec</td>\n",
       "    </tr>\n",
       "    <tr>\n",
       "      <th>1</th>\n",
       "      <td>2006-Jan</td>\n",
       "      <td>351.48</td>\n",
       "      <td>33.96</td>\n",
       "      <td>51.84</td>\n",
       "      <td>11.52</td>\n",
       "      <td>2006</td>\n",
       "      <td>Jan</td>\n",
       "    </tr>\n",
       "    <tr>\n",
       "      <th>2</th>\n",
       "      <td>2006-Feb</td>\n",
       "      <td>135.48</td>\n",
       "      <td>20.88</td>\n",
       "      <td>46.32</td>\n",
       "      <td>20.88</td>\n",
       "      <td>2006</td>\n",
       "      <td>Feb</td>\n",
       "    </tr>\n",
       "    <tr>\n",
       "      <th>3</th>\n",
       "      <td>2006-Mar</td>\n",
       "      <td>116.64</td>\n",
       "      <td>1.80</td>\n",
       "      <td>36.00</td>\n",
       "      <td>11.40</td>\n",
       "      <td>2006</td>\n",
       "      <td>Mar</td>\n",
       "    </tr>\n",
       "    <tr>\n",
       "      <th>4</th>\n",
       "      <td>2006-Apr</td>\n",
       "      <td>318.72</td>\n",
       "      <td>24.00</td>\n",
       "      <td>0.36</td>\n",
       "      <td>15.36</td>\n",
       "      <td>2006</td>\n",
       "      <td>Apr</td>\n",
       "    </tr>\n",
       "  </tbody>\n",
       "</table>\n",
       "</div>"
      ],
      "text/plain": [
       "  YEAR_MONTH  SOCIAL     TV  NEWSPAPER  SALES_AMT  year month\n",
       "0   2005-Dec   84.72  19.20      48.96      14.28  2005   Dec\n",
       "1   2006-Jan  351.48  33.96      51.84      11.52  2006   Jan\n",
       "2   2006-Feb  135.48  20.88      46.32      20.88  2006   Feb\n",
       "3   2006-Mar  116.64   1.80      36.00      11.40  2006   Mar\n",
       "4   2006-Apr  318.72  24.00       0.36      15.36  2006   Apr"
      ]
     },
     "execution_count": 6,
     "metadata": {},
     "output_type": "execute_result"
    }
   ],
   "source": [
    "df['year'] = [val.split('-')[0] for val in df['YEAR_MONTH']]\n",
    "df['month'] = [val.split('-')[1] for val in df['YEAR_MONTH']]\n",
    "df.head()"
   ]
  },
  {
   "cell_type": "code",
   "execution_count": 7,
   "id": "1bdd9bf0",
   "metadata": {},
   "outputs": [
    {
     "data": {
      "text/plain": [
       "0.194"
      ]
     },
     "execution_count": 7,
     "metadata": {},
     "output_type": "execute_result"
    }
   ],
   "source": [
    "# 2009년, 2019년 매출 합계\n",
    "sum2009 = df.loc[df['year']=='2009', 'SALES_AMT'].sum()\n",
    "sum2019 = df.loc[df['year']=='2019', 'SALES_AMT'].sum()\n",
    "\n",
    "res = ((sum2019 - sum2009)/sum2009)*100\n",
    "round(res, 3)"
   ]
  },
  {
   "cell_type": "markdown",
   "id": "df21ced7",
   "metadata": {},
   "source": [
    "### 샘플 3번"
   ]
  },
  {
   "cell_type": "code",
   "execution_count": 16,
   "id": "be5ec7ec",
   "metadata": {},
   "outputs": [
    {
     "name": "stdout",
     "output_type": "stream",
     "text": [
      "0.992\n"
     ]
    }
   ],
   "source": [
    "# 두 모평균 차 추정\n",
    "#  2009년과 2019년의 매출금액(SALES_AMT) 평균이 통계적으로 \n",
    "#  유의한 차이가 있는지 검정하고자 한다. 적절한 검정 수행 후, \n",
    "#  유의 확률(P-value)의 값을 기술하시오.\n",
    "#  단, 검정 시 세운 대립 가설(H₁)은 다음과 같다.\n",
    "#  대립 가설(H₁): 2009년과 2019년의 매출금액의 평균이 같지 않다\n",
    "\n",
    "q3 = df[(df['year']=='2009')|(df['year']=='2019')]\n",
    "tab = pd.pivot_table(q3, index=['month'],columns=['year'], values='SALES_AMT')\n",
    "\n",
    "# tab.columns\n",
    "from scipy.stats import ttest_rel\n",
    "\n",
    "out = ttest_rel(tab['2009'], tab['2019'])\n",
    "print(round(out[1], 3))"
   ]
  }
 ],
 "metadata": {
  "kernelspec": {
   "display_name": "Python 3 (ipykernel)",
   "language": "python",
   "name": "python3"
  },
  "language_info": {
   "codemirror_mode": {
    "name": "ipython",
    "version": 3
   },
   "file_extension": ".py",
   "mimetype": "text/x-python",
   "name": "python",
   "nbconvert_exporter": "python",
   "pygments_lexer": "ipython3",
   "version": "3.9.7"
  }
 },
 "nbformat": 4,
 "nbformat_minor": 5
}
