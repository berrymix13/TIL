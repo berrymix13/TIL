{
 "cells": [
  {
   "cell_type": "markdown",
   "id": "4038c363",
   "metadata": {},
   "source": [
    "# ProDS 시험 준비\n",
    "- 데이터 업로드\n",
    "### 데이터 전처리\n",
    "- 결측치 처리\n",
    "- 이상치 처리\n",
    "- 분포 모양에 따른 변환\n",
    "    - 오른쪽 꼬리 분포: 로그변환, 제곱근 변환\n",
    "    - 왼꼬리 분포 : 지수변환, 제곱, 제곱\n",
    "- 파생변수 생성\n",
    "- 문자열 데이터 처리\n",
    "\n",
    "### 시각화\n",
    "- EDA\n",
    "- 시각화"
   ]
  },
  {
   "cell_type": "code",
   "execution_count": 20,
   "id": "3445a89f",
   "metadata": {},
   "outputs": [],
   "source": [
    "import warnings, re\n",
    "import pandas as pd\n",
    "import numpy as np\n",
    "from glob import glob \n",
    "import matplotlib.pyplot as plt\n",
    "warnings.filterwarnings('ignore')"
   ]
  },
  {
   "cell_type": "code",
   "execution_count": 8,
   "id": "75337f76",
   "metadata": {
    "scrolled": true
   },
   "outputs": [
    {
     "data": {
      "text/html": [
       "<div>\n",
       "<style scoped>\n",
       "    .dataframe tbody tr th:only-of-type {\n",
       "        vertical-align: middle;\n",
       "    }\n",
       "\n",
       "    .dataframe tbody tr th {\n",
       "        vertical-align: top;\n",
       "    }\n",
       "\n",
       "    .dataframe thead th {\n",
       "        text-align: right;\n",
       "    }\n",
       "</style>\n",
       "<table border=\"1\" class=\"dataframe\">\n",
       "  <thead>\n",
       "    <tr style=\"text-align: right;\">\n",
       "      <th></th>\n",
       "      <th>지역</th>\n",
       "      <th>상호</th>\n",
       "      <th>주소</th>\n",
       "      <th>상표</th>\n",
       "      <th>전화번호</th>\n",
       "      <th>셀프여부</th>\n",
       "      <th>고급휘발유</th>\n",
       "      <th>휘발유</th>\n",
       "      <th>경유</th>\n",
       "      <th>실내등유</th>\n",
       "    </tr>\n",
       "  </thead>\n",
       "  <tbody>\n",
       "    <tr>\n",
       "      <th>0</th>\n",
       "      <td>서울특별시</td>\n",
       "      <td>재건에너지 재정제2주유소 고속셀프지점</td>\n",
       "      <td>서울특별시 강동구  천호대로 1246 (둔촌제2동)</td>\n",
       "      <td>현대오일뱅크</td>\n",
       "      <td>02-487-2030</td>\n",
       "      <td>Y</td>\n",
       "      <td>-</td>\n",
       "      <td>1979</td>\n",
       "      <td>1913</td>\n",
       "      <td>-</td>\n",
       "    </tr>\n",
       "    <tr>\n",
       "      <th>1</th>\n",
       "      <td>서울특별시</td>\n",
       "      <td>구천면주유소</td>\n",
       "      <td>서울 강동구 구천면로 357 (암사동)</td>\n",
       "      <td>현대오일뱅크</td>\n",
       "      <td>02-441-0536</td>\n",
       "      <td>N</td>\n",
       "      <td>-</td>\n",
       "      <td>1993</td>\n",
       "      <td>1927</td>\n",
       "      <td>-</td>\n",
       "    </tr>\n",
       "    <tr>\n",
       "      <th>2</th>\n",
       "      <td>서울특별시</td>\n",
       "      <td>지에스칼텍스㈜ 신월주유소</td>\n",
       "      <td>서울 강동구 양재대로 1323 (성내동)</td>\n",
       "      <td>GS칼텍스</td>\n",
       "      <td>02-475-2600</td>\n",
       "      <td>N</td>\n",
       "      <td>2165</td>\n",
       "      <td>2015</td>\n",
       "      <td>1925</td>\n",
       "      <td>1480</td>\n",
       "    </tr>\n",
       "    <tr>\n",
       "      <th>3</th>\n",
       "      <td>서울특별시</td>\n",
       "      <td>현대오일뱅크㈜직영 명일셀프주유소</td>\n",
       "      <td>서울 강동구 고덕로 168 (명일동)</td>\n",
       "      <td>현대오일뱅크</td>\n",
       "      <td>02-3428-1739</td>\n",
       "      <td>Y</td>\n",
       "      <td>2165</td>\n",
       "      <td>2028</td>\n",
       "      <td>1964</td>\n",
       "      <td>-</td>\n",
       "    </tr>\n",
       "    <tr>\n",
       "      <th>4</th>\n",
       "      <td>서울특별시</td>\n",
       "      <td>지에스칼텍스㈜ 동서울주유소</td>\n",
       "      <td>서울 강동구 천호대로 1456 (상일동)</td>\n",
       "      <td>GS칼텍스</td>\n",
       "      <td>02-426-5372</td>\n",
       "      <td>Y</td>\n",
       "      <td>-</td>\n",
       "      <td>2045</td>\n",
       "      <td>1955</td>\n",
       "      <td>-</td>\n",
       "    </tr>\n",
       "  </tbody>\n",
       "</table>\n",
       "</div>"
      ],
      "text/plain": [
       "      지역                    상호                            주소      상표  \\\n",
       "0  서울특별시  재건에너지 재정제2주유소 고속셀프지점  서울특별시 강동구  천호대로 1246 (둔촌제2동)  현대오일뱅크   \n",
       "1  서울특별시                구천면주유소         서울 강동구 구천면로 357 (암사동)  현대오일뱅크   \n",
       "2  서울특별시         지에스칼텍스㈜ 신월주유소        서울 강동구 양재대로 1323 (성내동)   GS칼텍스   \n",
       "3  서울특별시     현대오일뱅크㈜직영 명일셀프주유소          서울 강동구 고덕로 168 (명일동)  현대오일뱅크   \n",
       "4  서울특별시        지에스칼텍스㈜ 동서울주유소        서울 강동구 천호대로 1456 (상일동)   GS칼텍스   \n",
       "\n",
       "           전화번호 셀프여부 고급휘발유   휘발유    경유  실내등유  \n",
       "0   02-487-2030    Y     -  1979  1913     -  \n",
       "1   02-441-0536    N     -  1993  1927     -  \n",
       "2   02-475-2600    N  2165  2015  1925  1480  \n",
       "3  02-3428-1739    Y  2165  2028  1964     -  \n",
       "4   02-426-5372    Y     -  2045  1955     -  "
      ]
     },
     "execution_count": 8,
     "metadata": {},
     "output_type": "execute_result"
    }
   ],
   "source": [
    "df = pd.read_excel(\"C:\\pydata\\주유소\\지역_위치별(주유소) (1).xls\", header = 2)\n",
    "df.head()"
   ]
  },
  {
   "cell_type": "code",
   "execution_count": 13,
   "id": "c43c1b6b",
   "metadata": {},
   "outputs": [],
   "source": [
    "dir_path = 'C:/pydata/주유소/'\n",
    "file_lst = glob(dir_path + \"*주유소*.xls\")\n",
    "\n",
    "# 엑셀 데이터를 일괄 tmp_df에 넣어주고 pd.concat으로 열 이름을 기준으로 행 추가\n",
    "tmp_df = []\n",
    "for file in file_lst:\n",
    "    tmp = pd.read_excel(file, header = 2)\n",
    "    tmp_df.append(tmp)"
   ]
  },
  {
   "cell_type": "code",
   "execution_count": 17,
   "id": "ca5546e1",
   "metadata": {
    "scrolled": true
   },
   "outputs": [
    {
     "data": {
      "text/plain": [
       "[       지역                    상호                            주소      상표  \\\n",
       " 0   서울특별시  재건에너지 재정제2주유소 고속셀프지점  서울특별시 강동구  천호대로 1246 (둔촌제2동)  현대오일뱅크   \n",
       " 1   서울특별시                구천면주유소         서울 강동구 구천면로 357 (암사동)  현대오일뱅크   \n",
       " 2   서울특별시         지에스칼텍스㈜ 신월주유소        서울 강동구 양재대로 1323 (성내동)   GS칼텍스   \n",
       " 3   서울특별시     현대오일뱅크㈜직영 명일셀프주유소          서울 강동구 고덕로 168 (명일동)  현대오일뱅크   \n",
       " 4   서울특별시        지에스칼텍스㈜ 동서울주유소        서울 강동구 천호대로 1456 (상일동)   GS칼텍스   \n",
       " 5   서울특별시       (주)퍼스트오일 코알라주유소     서울특별시 강동구  올림픽로 556 (성내동)   S-OIL   \n",
       " 6   서울특별시      주)지유에너지직영 오렌지주유소          서울 강동구 성안로 102 (성내동)   SK에너지   \n",
       " 7   서울특별시          대성석유(주)길동주유소              서울 강동구 천호대로 1168   GS칼텍스   \n",
       " 8   서울특별시               방아다리주유소          서울 강동구 동남로 811 (명일동)   SK에너지   \n",
       " 9   서울특별시              sk해뜨는주유소         서울 강동구  상일로 132 (강일동)   SK에너지   \n",
       " 10  서울특별시        (주)삼표에너지 고덕주유소           서울 강동구 고덕로 39 (암사동)   GS칼텍스   \n",
       " 11  서울특별시               천호현대주유소           서울 강동구 천중로 67 (천호동)  현대오일뱅크   \n",
       " 12  서울특별시        (주)소모에너지 성내주유소         서울 강동구 올림픽로 578 (성내동)   GS칼텍스   \n",
       " 13  서울특별시                 광성주유소         서울 강동구 올림픽로 673 (천호동)   S-OIL   \n",
       " \n",
       "             전화번호 셀프여부 고급휘발유   휘발유    경유  실내등유  \n",
       " 0    02-487-2030    Y     -  1979  1913     -  \n",
       " 1    02-441-0536    N     -  1993  1927     -  \n",
       " 2    02-475-2600    N  2165  2015  1925  1480  \n",
       " 3   02-3428-1739    Y  2165  2028  1964     -  \n",
       " 4    02-426-5372    Y     -  2045  1955     -  \n",
       " 5    02-484-1162    Y     -  2058  1978     -  \n",
       " 6    02-484-6165    N     -  2082  1992  1600  \n",
       " 7    02-474-7222    N  2274  2085  1999  1650  \n",
       " 8    02-442-5145    Y     -  2085  1995  1500  \n",
       " 9    02-442-7801    Y     -  2085  1995  1600  \n",
       " 10   02-441-3327    N  2298  2098  1998  1773  \n",
       " 11   02-484-9323    N     -  2172  2099     -  \n",
       " 12   02-479-3838    Y     -  2198  2098     -  \n",
       " 13   02-470-5133    N     -  2298  2238  1800  ,\n",
       "        지역                상호                          주소      상표  \\\n",
       " 0   서울특별시             열린주유소       서울 동대문구 한천로 263 (휘경동)   S-OIL   \n",
       " 1   서울특별시     대성산업(주)동마장주유소      서울 동대문구 고산자로 405 (용두동)   GS칼텍스   \n",
       " 2   서울특별시          동서울고속주유소             서울 동대문구 한천로 414   SK에너지   \n",
       " 3   서울특별시             풍한주유소             서울 동대문구 안암로 168   SK에너지   \n",
       " 4   서울특별시       대성산업㈜청량리주유소      서울 동대문구 왕산로 289 (청량리동)   GS칼텍스   \n",
       " 5   서울특별시             삼영주유소      서울 동대문구 답십리로 258 (장안동)   SK에너지   \n",
       " 6   서울특별시    (주)자연에너지 국민주유소     서울 동대문구 답십리로 223 (답십리동)  현대오일뱅크   \n",
       " 7   서울특별시           재정제2주유소       서울 동대문구 사가정로 90 (전농동)  현대오일뱅크   \n",
       " 8   서울특별시          (주)경동주유소       서울 동대문구 이문로 191 (이문동)   S-OIL   \n",
       " 9   서울특별시             재정주유소       서울 동대문구 전농로 121 (전농동)  현대오일뱅크   \n",
       " 10  서울특별시            배봉로주유소          서울 동대문구 서울시립대로 108  현대오일뱅크   \n",
       " 11  서울특별시      동일석유(주)강남주유소  서울특별시 동대문구  사가정로 103 (전농동)   SK에너지   \n",
       " 12  서울특별시          (주)파랑에너지             서울 동대문구 망우로 126   GS칼텍스   \n",
       " 13  서울특별시  (주)안국에너지 삼원셀프주유소        서울 동대문구 망우로 90 (휘경동)   SK에너지   \n",
       " 14  서울특별시  현대오일뱅크㈜직영 스피드주유소      서울 동대문구 천호대로 453 (장안동)  현대오일뱅크   \n",
       " 15  서울특별시   삼미상사(주)장안킹셀프주유소      서울 동대문구  한천로 100 (장안동)   SK에너지   \n",
       " 16  서울특별시             홍능주유소       서울 동대문구 홍릉로 87 (청량리동)   S-OIL   \n",
       " 17  서울특별시           오동나무주유소      서울 동대문구  한천로 81 (답십리동)   S-OIL   \n",
       " 18  서울특별시        한영주유소 (한화)        서울 동대문구 망우로 38 (휘경동)  현대오일뱅크   \n",
       " \n",
       "              전화번호 셀프여부 고급휘발유   휘발유    경유  실내등유  \n",
       " 0    02-2215-6543    N     -  1975  1875     -  \n",
       " 1     02-966-5451    Y  2188  1975  1875     -  \n",
       " 2     02-969-1144    Y  2090  1975  1875     -  \n",
       " 3     02-924-5189    N     -  1975  1875     -  \n",
       " 4     02-966-9400    Y     -  1975  1875     -  \n",
       " 5    02-2217-2017    N     -  1983  1883     -  \n",
       " 6    02-2216-7155    N     -  1985  1885     -  \n",
       " 7    02-2249-6682    Y     -  1985  1885     -  \n",
       " 8     02-965-6006    Y     -  1985  1895  1500  \n",
       " 9   070-8256-4617    Y  2089  1985  1885     -  \n",
       " 10   02-2242-0556    Y     -  1995  1925     -  \n",
       " 11   02-3394-5183    N     -  1995  1895  1500  \n",
       " 12   02-2242-5145    Y  2150  1997  1925  1400  \n",
       " 13   02-2244-1972    Y     -  2009  1938  1600  \n",
       " 14   02-2216-5151    N  2205  2010  1942     -  \n",
       " 15   02-2242-7115    Y     -  2019  1998     -  \n",
       " 16    02-966-9190    N     -  2025  1955  1500  \n",
       " 17   02-2247-5132    N     -  2028  1968  1600  \n",
       " 18   02-2214-9890    N     -  2190  2090  1590  ]"
      ]
     },
     "execution_count": 17,
     "metadata": {},
     "output_type": "execute_result"
    }
   ],
   "source": [
    "tmp_df[:2]"
   ]
  },
  {
   "cell_type": "code",
   "execution_count": 15,
   "id": "0fe66135",
   "metadata": {},
   "outputs": [
    {
     "name": "stdout",
     "output_type": "stream",
     "text": [
      "<class 'pandas.core.frame.DataFrame'>\n",
      "RangeIndex: 1498 entries, 0 to 1497\n",
      "Data columns (total 10 columns):\n",
      " #   Column  Non-Null Count  Dtype \n",
      "---  ------  --------------  ----- \n",
      " 0   지역      1498 non-null   object\n",
      " 1   상호      1498 non-null   object\n",
      " 2   주소      1498 non-null   object\n",
      " 3   상표      1498 non-null   object\n",
      " 4   전화번호    1498 non-null   object\n",
      " 5   셀프여부    1498 non-null   object\n",
      " 6   고급휘발유   1498 non-null   object\n",
      " 7   휘발유     1498 non-null   object\n",
      " 8   경유      1498 non-null   object\n",
      " 9   실내등유    1498 non-null   object\n",
      "dtypes: object(10)\n",
      "memory usage: 117.2+ KB\n"
     ]
    }
   ],
   "source": [
    "df = pd.concat(tmp_df, ignore_index=True) # 인덱스 재설정 옵션\n",
    "df.info()\n",
    "# 결측치 갯수와 데이터 타입 확인"
   ]
  },
  {
   "cell_type": "code",
   "execution_count": 21,
   "id": "61e175c8",
   "metadata": {},
   "outputs": [
    {
     "data": {
      "text/html": [
       "<div>\n",
       "<style scoped>\n",
       "    .dataframe tbody tr th:only-of-type {\n",
       "        vertical-align: middle;\n",
       "    }\n",
       "\n",
       "    .dataframe tbody tr th {\n",
       "        vertical-align: top;\n",
       "    }\n",
       "\n",
       "    .dataframe thead th {\n",
       "        text-align: right;\n",
       "    }\n",
       "</style>\n",
       "<table border=\"1\" class=\"dataframe\">\n",
       "  <thead>\n",
       "    <tr style=\"text-align: right;\">\n",
       "      <th></th>\n",
       "      <th>시도</th>\n",
       "      <th>상호</th>\n",
       "      <th>주소</th>\n",
       "      <th>가격</th>\n",
       "      <th>셀프</th>\n",
       "      <th>상표</th>\n",
       "    </tr>\n",
       "  </thead>\n",
       "  <tbody>\n",
       "    <tr>\n",
       "      <th>0</th>\n",
       "      <td>서울특별시</td>\n",
       "      <td>재건에너지 재정제2주유소 고속셀프지점</td>\n",
       "      <td>서울특별시 강동구  천호대로 1246 (둔촌제2동)</td>\n",
       "      <td>1979</td>\n",
       "      <td>Y</td>\n",
       "      <td>현대오일뱅크</td>\n",
       "    </tr>\n",
       "    <tr>\n",
       "      <th>1</th>\n",
       "      <td>서울특별시</td>\n",
       "      <td>구천면주유소</td>\n",
       "      <td>서울 강동구 구천면로 357 (암사동)</td>\n",
       "      <td>1993</td>\n",
       "      <td>N</td>\n",
       "      <td>현대오일뱅크</td>\n",
       "    </tr>\n",
       "    <tr>\n",
       "      <th>2</th>\n",
       "      <td>서울특별시</td>\n",
       "      <td>지에스칼텍스㈜ 신월주유소</td>\n",
       "      <td>서울 강동구 양재대로 1323 (성내동)</td>\n",
       "      <td>2015</td>\n",
       "      <td>N</td>\n",
       "      <td>GS칼텍스</td>\n",
       "    </tr>\n",
       "  </tbody>\n",
       "</table>\n",
       "</div>"
      ],
      "text/plain": [
       "      시도                    상호                            주소    가격 셀프      상표\n",
       "0  서울특별시  재건에너지 재정제2주유소 고속셀프지점  서울특별시 강동구  천호대로 1246 (둔촌제2동)  1979  Y  현대오일뱅크\n",
       "1  서울특별시                구천면주유소         서울 강동구 구천면로 357 (암사동)  1993  N  현대오일뱅크\n",
       "2  서울특별시         지에스칼텍스㈜ 신월주유소        서울 강동구 양재대로 1323 (성내동)  2015  N   GS칼텍스"
      ]
     },
     "execution_count": 21,
     "metadata": {},
     "output_type": "execute_result"
    }
   ],
   "source": [
    "# 필요한 열들만 뽑아오기\n",
    "df_oil = df[['지역', '상호', '주소', '휘발유', '셀프여부', '상표']]\n",
    "df_oil.rename(columns = {'지역':'시도', '휘발유':'가격', '셀프여부':'셀프'}, inplace = True)\n",
    "df_oil.head(3)"
   ]
  },
  {
   "cell_type": "code",
   "execution_count": 33,
   "id": "e7e986d1",
   "metadata": {},
   "outputs": [
    {
     "data": {
      "text/html": [
       "<div>\n",
       "<style scoped>\n",
       "    .dataframe tbody tr th:only-of-type {\n",
       "        vertical-align: middle;\n",
       "    }\n",
       "\n",
       "    .dataframe tbody tr th {\n",
       "        vertical-align: top;\n",
       "    }\n",
       "\n",
       "    .dataframe thead th {\n",
       "        text-align: right;\n",
       "    }\n",
       "</style>\n",
       "<table border=\"1\" class=\"dataframe\">\n",
       "  <thead>\n",
       "    <tr style=\"text-align: right;\">\n",
       "      <th></th>\n",
       "      <th>시도</th>\n",
       "      <th>상호</th>\n",
       "      <th>주소</th>\n",
       "      <th>가격</th>\n",
       "      <th>셀프</th>\n",
       "      <th>상표</th>\n",
       "      <th>시군구</th>\n",
       "    </tr>\n",
       "  </thead>\n",
       "  <tbody>\n",
       "    <tr>\n",
       "      <th>0</th>\n",
       "      <td>서울특별시</td>\n",
       "      <td>재건에너지 재정제2주유소 고속셀프지점</td>\n",
       "      <td>서울특별시 강동구  천호대로 1246 (둔촌제2동)</td>\n",
       "      <td>1979</td>\n",
       "      <td>Y</td>\n",
       "      <td>현대오일뱅크</td>\n",
       "      <td>강동구</td>\n",
       "    </tr>\n",
       "    <tr>\n",
       "      <th>1</th>\n",
       "      <td>서울특별시</td>\n",
       "      <td>구천면주유소</td>\n",
       "      <td>서울 강동구 구천면로 357 (암사동)</td>\n",
       "      <td>1993</td>\n",
       "      <td>N</td>\n",
       "      <td>현대오일뱅크</td>\n",
       "      <td>강동구</td>\n",
       "    </tr>\n",
       "    <tr>\n",
       "      <th>2</th>\n",
       "      <td>서울특별시</td>\n",
       "      <td>지에스칼텍스㈜ 신월주유소</td>\n",
       "      <td>서울 강동구 양재대로 1323 (성내동)</td>\n",
       "      <td>2015</td>\n",
       "      <td>N</td>\n",
       "      <td>GS칼텍스</td>\n",
       "      <td>강동구</td>\n",
       "    </tr>\n",
       "  </tbody>\n",
       "</table>\n",
       "</div>"
      ],
      "text/plain": [
       "      시도                    상호                            주소    가격 셀프      상표  \\\n",
       "0  서울특별시  재건에너지 재정제2주유소 고속셀프지점  서울특별시 강동구  천호대로 1246 (둔촌제2동)  1979  Y  현대오일뱅크   \n",
       "1  서울특별시                구천면주유소         서울 강동구 구천면로 357 (암사동)  1993  N  현대오일뱅크   \n",
       "2  서울특별시         지에스칼텍스㈜ 신월주유소        서울 강동구 양재대로 1323 (성내동)  2015  N   GS칼텍스   \n",
       "\n",
       "   시군구  \n",
       "0  강동구  \n",
       "1  강동구  \n",
       "2  강동구  "
      ]
     },
     "execution_count": 33,
     "metadata": {},
     "output_type": "execute_result"
    }
   ],
   "source": [
    "# 파생변수 생성 : 시군구 추가 \n",
    "\n",
    "df_oil['시군구'] = [val.split()[1] for val in df_oil['주소']]\n",
    "df_oil.head(3)"
   ]
  },
  {
   "cell_type": "code",
   "execution_count": 43,
   "id": "34c7b615",
   "metadata": {},
   "outputs": [
    {
     "data": {
      "text/plain": [
       "array(['강동구', '동대문구', '동작구', '마포구', '서대문구', '서초구', '성동구', '성북구', '송파구',\n",
       "       '양천구', '영등포구', '강북구', '용산구', '은평구', '종로구', '중구', '중랑구', '강서구',\n",
       "       '금정구', '기장군', '남구', '동구', '동래구', '부산진구', '북구', '사상구', '사하구', '서구',\n",
       "       '수영구', '연제구', '영도구', '관악구', '해운대구', '광산구', '대덕구', '유성구', '광진구',\n",
       "       '광역시', '수원시', '거제시', '구로구', '금천구', '노원구', '도봉구', '강남구'],\n",
       "      dtype=object)"
      ]
     },
     "execution_count": 43,
     "metadata": {},
     "output_type": "execute_result"
    }
   ],
   "source": [
    "df_oil['시군구'].unique()"
   ]
  },
  {
   "cell_type": "code",
   "execution_count": 48,
   "id": "51fbfc8d",
   "metadata": {},
   "outputs": [],
   "source": [
    "# 광역시로 나온 행 확인\n",
    "df_oil.loc[df_oil['시군구'] == '광역시', '시군구'] = '중구'"
   ]
  },
  {
   "cell_type": "code",
   "execution_count": 54,
   "id": "bbe6a356",
   "metadata": {},
   "outputs": [
    {
     "data": {
      "text/plain": [
       "시도     object\n",
       "상호     object\n",
       "주소     object\n",
       "가격      int32\n",
       "셀프     object\n",
       "상표     object\n",
       "시군구    object\n",
       "dtype: object"
      ]
     },
     "execution_count": 54,
     "metadata": {},
     "output_type": "execute_result"
    }
   ],
   "source": [
    "df_oil.loc[df_oil['가격'] == '-', '가격'] = 0\n",
    "\n",
    "## 데이터 타입 변환\n",
    "df_oil['가격'] = df_oil['가격'].astype('int32')\n",
    "df_oil.dtypes"
   ]
  },
  {
   "cell_type": "markdown",
   "id": "d5a3a673",
   "metadata": {},
   "source": [
    "## EDA"
   ]
  },
  {
   "cell_type": "code",
   "execution_count": 55,
   "id": "82fd02f4",
   "metadata": {},
   "outputs": [],
   "source": [
    "from matplotlib import font_manager, rc\n",
    "\n",
    "font_name = font_manager.FontProperties(fname=\"C:/Windows/Fonts/MalangmalangR.ttf\").get_name()\n",
    "rc('font', family = font_name)"
   ]
  },
  {
   "cell_type": "code",
   "execution_count": 57,
   "id": "2119e74c",
   "metadata": {},
   "outputs": [
    {
     "data": {
      "image/png": "[encoded data removed]",
      "text/plain": [
       "<Figure size 432x288 with 1 Axes>"
      ]
     },
     "metadata": {
      "needs_background": "light"
     },
     "output_type": "display_data"
    }
   ],
   "source": [
    "# 박스플롯\n",
    "df_oil.boxplot();"
   ]
  },
  {
   "cell_type": "code",
   "execution_count": 58,
   "id": "bafb67e7",
   "metadata": {},
   "outputs": [
    {
     "data": {
      "text/plain": [
       "<AxesSubplot:title={'center':'가격'}, xlabel='셀프'>"
      ]
     },
     "execution_count": 58,
     "metadata": {},
     "output_type": "execute_result"
    },
    {
     "data": {
      "image/png": "[encoded data removed]",
      "text/plain": [
       "<Figure size 432x288 with 1 Axes>"
      ]
     },
     "metadata": {
      "needs_background": "light"
     },
     "output_type": "display_data"
    }
   ],
   "source": [
    "df_oil.boxplot(column = '가격', by='셀프')"
   ]
  },
  {
   "cell_type": "code",
   "execution_count": 63,
   "id": "0d53f1ec",
   "metadata": {},
   "outputs": [
    {
     "data": {
      "text/html": [
       "<div>\n",
       "<style scoped>\n",
       "    .dataframe tbody tr th:only-of-type {\n",
       "        vertical-align: middle;\n",
       "    }\n",
       "\n",
       "    .dataframe tbody tr th {\n",
       "        vertical-align: top;\n",
       "    }\n",
       "\n",
       "    .dataframe thead th {\n",
       "        text-align: right;\n",
       "    }\n",
       "</style>\n",
       "<table border=\"1\" class=\"dataframe\">\n",
       "  <thead>\n",
       "    <tr style=\"text-align: right;\">\n",
       "      <th></th>\n",
       "      <th>시도</th>\n",
       "      <th>상호</th>\n",
       "      <th>주소</th>\n",
       "      <th>가격</th>\n",
       "      <th>셀프</th>\n",
       "      <th>상표</th>\n",
       "      <th>시군구</th>\n",
       "    </tr>\n",
       "  </thead>\n",
       "  <tbody>\n",
       "    <tr>\n",
       "      <th>0</th>\n",
       "      <td>서울특별시</td>\n",
       "      <td>재건에너지 재정제2주유소 고속셀프지점</td>\n",
       "      <td>서울특별시 강동구  천호대로 1246 (둔촌제2동)</td>\n",
       "      <td>1979</td>\n",
       "      <td>Y</td>\n",
       "      <td>현대오일뱅크</td>\n",
       "      <td>강동구</td>\n",
       "    </tr>\n",
       "    <tr>\n",
       "      <th>1</th>\n",
       "      <td>서울특별시</td>\n",
       "      <td>구천면주유소</td>\n",
       "      <td>서울 강동구 구천면로 357 (암사동)</td>\n",
       "      <td>1993</td>\n",
       "      <td>N</td>\n",
       "      <td>현대오일뱅크</td>\n",
       "      <td>강동구</td>\n",
       "    </tr>\n",
       "    <tr>\n",
       "      <th>2</th>\n",
       "      <td>서울특별시</td>\n",
       "      <td>지에스칼텍스㈜ 신월주유소</td>\n",
       "      <td>서울 강동구 양재대로 1323 (성내동)</td>\n",
       "      <td>2015</td>\n",
       "      <td>N</td>\n",
       "      <td>GS칼텍스</td>\n",
       "      <td>강동구</td>\n",
       "    </tr>\n",
       "    <tr>\n",
       "      <th>3</th>\n",
       "      <td>서울특별시</td>\n",
       "      <td>현대오일뱅크㈜직영 명일셀프주유소</td>\n",
       "      <td>서울 강동구 고덕로 168 (명일동)</td>\n",
       "      <td>2028</td>\n",
       "      <td>Y</td>\n",
       "      <td>현대오일뱅크</td>\n",
       "      <td>강동구</td>\n",
       "    </tr>\n",
       "    <tr>\n",
       "      <th>4</th>\n",
       "      <td>서울특별시</td>\n",
       "      <td>지에스칼텍스㈜ 동서울주유소</td>\n",
       "      <td>서울 강동구 천호대로 1456 (상일동)</td>\n",
       "      <td>2045</td>\n",
       "      <td>Y</td>\n",
       "      <td>GS칼텍스</td>\n",
       "      <td>강동구</td>\n",
       "    </tr>\n",
       "  </tbody>\n",
       "</table>\n",
       "</div>"
      ],
      "text/plain": [
       "      시도                    상호                            주소    가격 셀프      상표  \\\n",
       "0  서울특별시  재건에너지 재정제2주유소 고속셀프지점  서울특별시 강동구  천호대로 1246 (둔촌제2동)  1979  Y  현대오일뱅크   \n",
       "1  서울특별시                구천면주유소         서울 강동구 구천면로 357 (암사동)  1993  N  현대오일뱅크   \n",
       "2  서울특별시         지에스칼텍스㈜ 신월주유소        서울 강동구 양재대로 1323 (성내동)  2015  N   GS칼텍스   \n",
       "3  서울특별시     현대오일뱅크㈜직영 명일셀프주유소          서울 강동구 고덕로 168 (명일동)  2028  Y  현대오일뱅크   \n",
       "4  서울특별시        지에스칼텍스㈜ 동서울주유소        서울 강동구 천호대로 1456 (상일동)  2045  Y   GS칼텍스   \n",
       "\n",
       "   시군구  \n",
       "0  강동구  \n",
       "1  강동구  \n",
       "2  강동구  \n",
       "3  강동구  \n",
       "4  강동구  "
      ]
     },
     "execution_count": 63,
     "metadata": {},
     "output_type": "execute_result"
    }
   ],
   "source": [
    "# 0인 자료 삭제\n",
    "df2 = df_oil[df_oil['가격'] != 0]\n",
    "df2.head()"
   ]
  },
  {
   "cell_type": "code",
   "execution_count": 74,
   "id": "00b46051",
   "metadata": {},
   "outputs": [
    {
     "name": "stdout",
     "output_type": "stream",
     "text": [
      "<class 'pandas.core.frame.DataFrame'>\n",
      "Int64Index: 1455 entries, 0 to 1494\n",
      "Data columns (total 7 columns):\n",
      " #   Column  Non-Null Count  Dtype \n",
      "---  ------  --------------  ----- \n",
      " 0   시도      1455 non-null   object\n",
      " 1   상호      1455 non-null   object\n",
      " 2   주소      1455 non-null   object\n",
      " 3   가격      1455 non-null   int32 \n",
      " 4   셀프      1455 non-null   object\n",
      " 5   상표      1455 non-null   object\n",
      " 6   시군구     1455 non-null   object\n",
      "dtypes: int32(1), object(6)\n",
      "memory usage: 85.3+ KB\n"
     ]
    }
   ],
   "source": [
    "dfdf = df_oil.copy()\n",
    "dfdf = dfdf.drop(dfdf[dfdf['가격'] == 0].index)\n",
    "dfdf.info()"
   ]
  },
  {
   "cell_type": "code",
   "execution_count": 79,
   "id": "2f5d271c",
   "metadata": {},
   "outputs": [],
   "source": [
    "dfdf.duplicated().sum() # 중복 없음\n",
    "dfdf = dfdf.drop_duplicates() # 중복 제거"
   ]
  },
  {
   "cell_type": "code",
   "execution_count": 64,
   "id": "a1634ae8",
   "metadata": {},
   "outputs": [
    {
     "data": {
      "text/plain": [
       "<AxesSubplot:title={'center':'가격'}, xlabel='셀프'>"
      ]
     },
     "execution_count": 64,
     "metadata": {},
     "output_type": "execute_result"
    },
    {
     "data": {
      "image/png": "[encoded data removed]",
      "text/plain": [
       "<Figure size 432x288 with 1 Axes>"
      ]
     },
     "metadata": {
      "needs_background": "light"
     },
     "output_type": "display_data"
    }
   ],
   "source": [
    "df2.boxplot(column = '가격', by='셀프')"
   ]
  },
  {
   "cell_type": "code",
   "execution_count": null,
   "id": "e921d9a2",
   "metadata": {},
   "outputs": [],
   "source": []
  }
 ],
 "metadata": {
  "kernelspec": {
   "display_name": "Python 3 (ipykernel)",
   "language": "python",
   "name": "python3"
  },
  "language_info": {
   "codemirror_mode": {
    "name": "ipython",
    "version": 3
   },
   "file_extension": ".py",
   "mimetype": "text/x-python",
   "name": "python",
   "nbconvert_exporter": "python",
   "pygments_lexer": "ipython3",
   "version": "3.9.7"
  }
 },
 "nbformat": 4,
 "nbformat_minor": 5
}
