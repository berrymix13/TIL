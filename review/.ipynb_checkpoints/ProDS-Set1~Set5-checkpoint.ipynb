{
 "cells": [
  {
   "cell_type": "code",
   "execution_count": 41,
   "id": "ce6f9d5f",
   "metadata": {},
   "outputs": [],
   "source": [
    "import warnings\n",
    "import pandas as pd\n",
    "import numpy as np\n",
    "import scipy.stats as st\n",
    "from statsmodels.formula.api import ols\n",
    "warnings.filterwarnings('ignore')\n",
    "\n",
    "path = 'C:/Users/sujin/multi/[특강]ProDS/Dataset/'"
   ]
  },
  {
   "cell_type": "markdown",
   "id": "672d3056",
   "metadata": {},
   "source": [
    "## Set1"
   ]
  },
  {
   "cell_type": "code",
   "execution_count": 4,
   "id": "1e160dfd",
   "metadata": {},
   "outputs": [
    {
     "data": {
      "text/html": [
       "<div>\n",
       "<style scoped>\n",
       "    .dataframe tbody tr th:only-of-type {\n",
       "        vertical-align: middle;\n",
       "    }\n",
       "\n",
       "    .dataframe tbody tr th {\n",
       "        vertical-align: top;\n",
       "    }\n",
       "\n",
       "    .dataframe thead th {\n",
       "        text-align: right;\n",
       "    }\n",
       "</style>\n",
       "<table border=\"1\" class=\"dataframe\">\n",
       "  <thead>\n",
       "    <tr style=\"text-align: right;\">\n",
       "      <th></th>\n",
       "      <th>TV</th>\n",
       "      <th>Radio</th>\n",
       "      <th>Social_Media</th>\n",
       "      <th>Influencer</th>\n",
       "      <th>Sales</th>\n",
       "    </tr>\n",
       "  </thead>\n",
       "  <tbody>\n",
       "    <tr>\n",
       "      <th>0</th>\n",
       "      <td>16.0</td>\n",
       "      <td>6.566231</td>\n",
       "      <td>2.907983</td>\n",
       "      <td>Mega</td>\n",
       "      <td>54.732757</td>\n",
       "    </tr>\n",
       "    <tr>\n",
       "      <th>1</th>\n",
       "      <td>13.0</td>\n",
       "      <td>9.237765</td>\n",
       "      <td>2.409567</td>\n",
       "      <td>Mega</td>\n",
       "      <td>46.677897</td>\n",
       "    </tr>\n",
       "    <tr>\n",
       "      <th>2</th>\n",
       "      <td>41.0</td>\n",
       "      <td>15.886446</td>\n",
       "      <td>2.913410</td>\n",
       "      <td>Mega</td>\n",
       "      <td>150.177829</td>\n",
       "    </tr>\n",
       "    <tr>\n",
       "      <th>3</th>\n",
       "      <td>83.0</td>\n",
       "      <td>30.020028</td>\n",
       "      <td>6.922304</td>\n",
       "      <td>Mega</td>\n",
       "      <td>298.246340</td>\n",
       "    </tr>\n",
       "    <tr>\n",
       "      <th>4</th>\n",
       "      <td>15.0</td>\n",
       "      <td>8.437408</td>\n",
       "      <td>1.405998</td>\n",
       "      <td>Micro</td>\n",
       "      <td>56.594181</td>\n",
       "    </tr>\n",
       "  </tbody>\n",
       "</table>\n",
       "</div>"
      ],
      "text/plain": [
       "     TV      Radio  Social_Media Influencer       Sales\n",
       "0  16.0   6.566231      2.907983       Mega   54.732757\n",
       "1  13.0   9.237765      2.409567       Mega   46.677897\n",
       "2  41.0  15.886446      2.913410       Mega  150.177829\n",
       "3  83.0  30.020028      6.922304       Mega  298.246340\n",
       "4  15.0   8.437408      1.405998      Micro   56.594181"
      ]
     },
     "execution_count": 4,
     "metadata": {},
     "output_type": "execute_result"
    }
   ],
   "source": [
    "df = pd.read_csv(path+'DataSet_01.csv')\n",
    "df.head()"
   ]
  },
  {
   "cell_type": "code",
   "execution_count": 5,
   "id": "0ec72546",
   "metadata": {},
   "outputs": [
    {
     "name": "stdout",
     "output_type": "stream",
     "text": [
      "<class 'pandas.core.frame.DataFrame'>\n",
      "RangeIndex: 4572 entries, 0 to 4571\n",
      "Data columns (total 5 columns):\n",
      " #   Column        Non-Null Count  Dtype  \n",
      "---  ------        --------------  -----  \n",
      " 0   TV            4562 non-null   float64\n",
      " 1   Radio         4568 non-null   float64\n",
      " 2   Social_Media  4566 non-null   float64\n",
      " 3   Influencer    4572 non-null   object \n",
      " 4   Sales         4566 non-null   float64\n",
      "dtypes: float64(4), object(1)\n",
      "memory usage: 178.7+ KB\n"
     ]
    }
   ],
   "source": [
    "df.info()"
   ]
  },
  {
   "cell_type": "code",
   "execution_count": 8,
   "id": "caa22b2a",
   "metadata": {},
   "outputs": [
    {
     "data": {
      "text/plain": [
       "26"
      ]
     },
     "execution_count": 8,
     "metadata": {},
     "output_type": "execute_result"
    }
   ],
   "source": [
    "# =============================================================================\n",
    "# 1. 데이터 세트 내에 총 결측값의 개수는 몇 개인가? (답안 예시) 23\n",
    "# =============================================================================\n",
    "df.isna().sum().sum()"
   ]
  },
  {
   "cell_type": "code",
   "execution_count": 29,
   "id": "1f9b84fb",
   "metadata": {},
   "outputs": [
    {
     "data": {
      "text/html": [
       "<div>\n",
       "<style scoped>\n",
       "    .dataframe tbody tr th:only-of-type {\n",
       "        vertical-align: middle;\n",
       "    }\n",
       "\n",
       "    .dataframe tbody tr th {\n",
       "        vertical-align: top;\n",
       "    }\n",
       "\n",
       "    .dataframe thead th {\n",
       "        text-align: right;\n",
       "    }\n",
       "</style>\n",
       "<table border=\"1\" class=\"dataframe\">\n",
       "  <thead>\n",
       "    <tr style=\"text-align: right;\">\n",
       "      <th></th>\n",
       "      <th>Sales</th>\n",
       "    </tr>\n",
       "  </thead>\n",
       "  <tbody>\n",
       "    <tr>\n",
       "      <th>TV</th>\n",
       "      <td>0.996652</td>\n",
       "    </tr>\n",
       "    <tr>\n",
       "      <th>Radio</th>\n",
       "      <td>0.867369</td>\n",
       "    </tr>\n",
       "    <tr>\n",
       "      <th>Social_Media</th>\n",
       "      <td>0.528121</td>\n",
       "    </tr>\n",
       "    <tr>\n",
       "      <th>Sales</th>\n",
       "      <td>1.000000</td>\n",
       "    </tr>\n",
       "  </tbody>\n",
       "</table>\n",
       "</div>"
      ],
      "text/plain": [
       "                 Sales\n",
       "TV            0.996652\n",
       "Radio         0.867369\n",
       "Social_Media  0.528121\n",
       "Sales         1.000000"
      ]
     },
     "execution_count": 29,
     "metadata": {},
     "output_type": "execute_result"
    }
   ],
   "source": [
    "# =============================================================================\n",
    "# 2. TV, Radio, Social Media 등 세 가지 다른 마케팅 채널의 예산과 매출액과의 상관분석을\n",
    "# 통하여 각 채널이 매출에 어느 정도 연관이 있는지 알아보고자 한다. \n",
    "# - 매출액과 가장 강한 상관관계를 가지고 있는 채널의 상관계수를 소수점 5번째\n",
    "# 자리에서 반올림하여 소수점 넷째 자리까지 기술하시오. (답안 예시) 0.1234\n",
    "# =============================================================================\n",
    "# 13, 182\n",
    "df = df.fillna(df.mean())\n",
    "df.corr()[['Sales']]"
   ]
  },
  {
   "cell_type": "markdown",
   "id": "c3f8dab6",
   "metadata": {},
   "source": [
    "3. 매출액을 종속변수, TV, Radio, Social Media의 예산을 독립변수로 하여 회귀분석을\n",
    "수행하였을 때, 세 개의 독립변수의 회귀계수를 큰 것에서부터 작은 것 순으로\n",
    "기술하시오. \n",
    "- 분석 시 결측치가 포함된 행은 제거한 후 진행하며, 회귀계수는 소수점 넷째 자리\n",
    "이하는 버리고 소수점 셋째 자리까지 기술하시오. (답안 예시) 0.123"
   ]
  },
  {
   "cell_type": "code",
   "execution_count": 31,
   "id": "77878b87",
   "metadata": {},
   "outputs": [
    {
     "data": {
      "text/html": [
       "<table class=\"simpletable\">\n",
       "<caption>OLS Regression Results</caption>\n",
       "<tr>\n",
       "  <th>Dep. Variable:</th>          <td>Sales</td>      <th>  R-squared:         </th> <td>   0.993</td> \n",
       "</tr>\n",
       "<tr>\n",
       "  <th>Model:</th>                   <td>OLS</td>       <th>  Adj. R-squared:    </th> <td>   0.993</td> \n",
       "</tr>\n",
       "<tr>\n",
       "  <th>Method:</th>             <td>Least Squares</td>  <th>  F-statistic:       </th> <td>2.279e+05</td>\n",
       "</tr>\n",
       "<tr>\n",
       "  <th>Date:</th>             <td>Wed, 24 Aug 2022</td> <th>  Prob (F-statistic):</th>  <td>  0.00</td>  \n",
       "</tr>\n",
       "<tr>\n",
       "  <th>Time:</th>                 <td>20:05:43</td>     <th>  Log-Likelihood:    </th> <td> -15749.</td> \n",
       "</tr>\n",
       "<tr>\n",
       "  <th>No. Observations:</th>      <td>  4572</td>      <th>  AIC:               </th> <td>3.151e+04</td>\n",
       "</tr>\n",
       "<tr>\n",
       "  <th>Df Residuals:</th>          <td>  4568</td>      <th>  BIC:               </th> <td>3.153e+04</td>\n",
       "</tr>\n",
       "<tr>\n",
       "  <th>Df Model:</th>              <td>     3</td>      <th>                     </th>     <td> </td>    \n",
       "</tr>\n",
       "<tr>\n",
       "  <th>Covariance Type:</th>      <td>nonrobust</td>    <th>                     </th>     <td> </td>    \n",
       "</tr>\n",
       "</table>\n",
       "<table class=\"simpletable\">\n",
       "<tr>\n",
       "        <td></td>          <th>coef</th>     <th>std err</th>      <th>t</th>      <th>P>|t|</th>  <th>[0.025</th>    <th>0.975]</th>  \n",
       "</tr>\n",
       "<tr>\n",
       "  <th>Intercept</th>    <td>    0.1372</td> <td>    0.264</td> <td>    0.520</td> <td> 0.603</td> <td>   -0.380</td> <td>    0.654</td>\n",
       "</tr>\n",
       "<tr>\n",
       "  <th>TV</th>           <td>    3.5124</td> <td>    0.009</td> <td>  407.306</td> <td> 0.000</td> <td>    3.495</td> <td>    3.529</td>\n",
       "</tr>\n",
       "<tr>\n",
       "  <th>Radio</th>        <td>    0.1234</td> <td>    0.025</td> <td>    4.962</td> <td> 0.000</td> <td>    0.075</td> <td>    0.172</td>\n",
       "</tr>\n",
       "<tr>\n",
       "  <th>Social_Media</th> <td>    0.0554</td> <td>    0.064</td> <td>    0.868</td> <td> 0.385</td> <td>   -0.070</td> <td>    0.181</td>\n",
       "</tr>\n",
       "</table>\n",
       "<table class=\"simpletable\">\n",
       "<tr>\n",
       "  <th>Omnibus:</th>       <td>2763.181</td> <th>  Durbin-Watson:     </th>   <td>   2.002</td>  \n",
       "</tr>\n",
       "<tr>\n",
       "  <th>Prob(Omnibus):</th>  <td> 0.000</td>  <th>  Jarque-Bera (JB):  </th> <td>11718659.357</td>\n",
       "</tr>\n",
       "<tr>\n",
       "  <th>Skew:</th>           <td> 1.133</td>  <th>  Prob(JB):          </th>   <td>    0.00</td>  \n",
       "</tr>\n",
       "<tr>\n",
       "  <th>Kurtosis:</th>       <td>251.012</td> <th>  Cond. No.          </th>   <td>    149.</td>  \n",
       "</tr>\n",
       "</table><br/><br/>Notes:<br/>[1] Standard Errors assume that the covariance matrix of the errors is correctly specified."
      ],
      "text/plain": [
       "<class 'statsmodels.iolib.summary.Summary'>\n",
       "\"\"\"\n",
       "                            OLS Regression Results                            \n",
       "==============================================================================\n",
       "Dep. Variable:                  Sales   R-squared:                       0.993\n",
       "Model:                            OLS   Adj. R-squared:                  0.993\n",
       "Method:                 Least Squares   F-statistic:                 2.279e+05\n",
       "Date:                Wed, 24 Aug 2022   Prob (F-statistic):               0.00\n",
       "Time:                        20:05:43   Log-Likelihood:                -15749.\n",
       "No. Observations:                4572   AIC:                         3.151e+04\n",
       "Df Residuals:                    4568   BIC:                         3.153e+04\n",
       "Df Model:                           3                                         \n",
       "Covariance Type:            nonrobust                                         \n",
       "================================================================================\n",
       "                   coef    std err          t      P>|t|      [0.025      0.975]\n",
       "--------------------------------------------------------------------------------\n",
       "Intercept        0.1372      0.264      0.520      0.603      -0.380       0.654\n",
       "TV               3.5124      0.009    407.306      0.000       3.495       3.529\n",
       "Radio            0.1234      0.025      4.962      0.000       0.075       0.172\n",
       "Social_Media     0.0554      0.064      0.868      0.385      -0.070       0.181\n",
       "==============================================================================\n",
       "Omnibus:                     2763.181   Durbin-Watson:                   2.002\n",
       "Prob(Omnibus):                  0.000   Jarque-Bera (JB):         11718659.357\n",
       "Skew:                           1.133   Prob(JB):                         0.00\n",
       "Kurtosis:                     251.012   Cond. No.                         149.\n",
       "==============================================================================\n",
       "\n",
       "Notes:\n",
       "[1] Standard Errors assume that the covariance matrix of the errors is correctly specified.\n",
       "\"\"\""
      ]
     },
     "execution_count": 31,
     "metadata": {},
     "output_type": "execute_result"
    }
   ],
   "source": [
    "from statsmodels.formula.api import ols\n",
    "\n",
    "# df.columns\n",
    "form1 = 'Sales~TV + Radio + Social_Media'\n",
    "lm = ols(form1, df).fit()\n",
    "lm.summary()"
   ]
  },
  {
   "cell_type": "code",
   "execution_count": 38,
   "id": "e0b54493",
   "metadata": {},
   "outputs": [
    {
     "name": "stdout",
     "output_type": "stream",
     "text": [
      "Intercept       0.137224\n",
      "TV              3.512383\n",
      "Radio           0.123437\n",
      "Social_Media    0.055427\n",
      "dtype: float64\n",
      "\n",
      "Index(['Intercept', 'TV', 'Radio', 'Social_Media'], dtype='object')\n",
      "\n",
      "Intercept       6.028654e-01\n",
      "TV              0.000000e+00\n",
      "Radio           7.223338e-07\n",
      "Social_Media    3.852307e-01\n",
      "dtype: float64\n"
     ]
    },
    {
     "data": {
      "text/plain": [
       "array([3.512, 0.123, 0.055])"
      ]
     },
     "execution_count": 38,
     "metadata": {},
     "output_type": "execute_result"
    }
   ],
   "source": [
    "# 회귀계수\n",
    "print(lm.params, end='\\n\\n')\n",
    "print(lm.params.index, end='\\n\\n')\n",
    "print(lm.pvalues)\n",
    "\n",
    "np.floor(lm.params.drop('Intercept').sort_values(ascending=False).values * 1000)/1000"
   ]
  },
  {
   "cell_type": "markdown",
   "id": "dadbdfdb",
   "metadata": {},
   "source": [
    "## Set2"
   ]
  },
  {
   "cell_type": "code",
   "execution_count": 109,
   "id": "ae0a2213",
   "metadata": {},
   "outputs": [
    {
     "name": "stdout",
     "output_type": "stream",
     "text": [
      "Index(['Age', 'Sex', 'BP', 'Cholesterol', 'Na_to_K', 'Drug'], dtype='object')\n"
     ]
    },
    {
     "data": {
      "text/html": [
       "<div>\n",
       "<style scoped>\n",
       "    .dataframe tbody tr th:only-of-type {\n",
       "        vertical-align: middle;\n",
       "    }\n",
       "\n",
       "    .dataframe tbody tr th {\n",
       "        vertical-align: top;\n",
       "    }\n",
       "\n",
       "    .dataframe thead th {\n",
       "        text-align: right;\n",
       "    }\n",
       "</style>\n",
       "<table border=\"1\" class=\"dataframe\">\n",
       "  <thead>\n",
       "    <tr style=\"text-align: right;\">\n",
       "      <th></th>\n",
       "      <th>Age</th>\n",
       "      <th>Sex</th>\n",
       "      <th>BP</th>\n",
       "      <th>Cholesterol</th>\n",
       "      <th>Na_to_K</th>\n",
       "      <th>Drug</th>\n",
       "    </tr>\n",
       "  </thead>\n",
       "  <tbody>\n",
       "    <tr>\n",
       "      <th>0</th>\n",
       "      <td>23</td>\n",
       "      <td>F</td>\n",
       "      <td>HIGH</td>\n",
       "      <td>HIGH</td>\n",
       "      <td>25.355</td>\n",
       "      <td>DrugY</td>\n",
       "    </tr>\n",
       "    <tr>\n",
       "      <th>1</th>\n",
       "      <td>47</td>\n",
       "      <td>M</td>\n",
       "      <td>LOW</td>\n",
       "      <td>HIGH</td>\n",
       "      <td>13.093</td>\n",
       "      <td>drugC</td>\n",
       "    </tr>\n",
       "    <tr>\n",
       "      <th>2</th>\n",
       "      <td>47</td>\n",
       "      <td>M</td>\n",
       "      <td>LOW</td>\n",
       "      <td>HIGH</td>\n",
       "      <td>10.114</td>\n",
       "      <td>drugC</td>\n",
       "    </tr>\n",
       "  </tbody>\n",
       "</table>\n",
       "</div>"
      ],
      "text/plain": [
       "   Age Sex    BP Cholesterol  Na_to_K   Drug\n",
       "0   23   F  HIGH        HIGH   25.355  DrugY\n",
       "1   47   M   LOW        HIGH   13.093  drugC\n",
       "2   47   M   LOW        HIGH   10.114  drugC"
      ]
     },
     "execution_count": 109,
     "metadata": {},
     "output_type": "execute_result"
    }
   ],
   "source": [
    "df2 = pd.read_csv(path+'DataSet_02.csv')\n",
    "print(df2.columns)\n",
    "df2.head(3)"
   ]
  },
  {
   "cell_type": "code",
   "execution_count": 121,
   "id": "56849dc4",
   "metadata": {},
   "outputs": [
    {
     "data": {
      "text/plain": [
       "0.105"
      ]
     },
     "execution_count": 121,
     "metadata": {},
     "output_type": "execute_result"
    }
   ],
   "source": [
    "# =============================================================================\n",
    "# 1.해당 데이터에 대한 EDA를 수행하고, 여성으로 혈압이 High, Cholesterol이 Normal인\n",
    "# 환자의 전체에 대비한 비율이 얼마인지 소수점 네 번째 자리에서 반올림하여 소수점 셋째\n",
    "# 자리까지 기술하시오. (답안 예시) 0.123\n",
    "# =============================================================================\n",
    "df22 = df2[df2['Sex']=='F'][df2['Cholesterol']=='NORMAL'][df2['BP']=='HIGH']\n",
    "(len(df22)/len(df2))"
   ]
  },
  {
   "cell_type": "code",
   "execution_count": 186,
   "id": "0332c579",
   "metadata": {},
   "outputs": [
    {
     "name": "stdout",
     "output_type": "stream",
     "text": [
      "4, 0.0007\n"
     ]
    },
    {
     "data": {
      "text/html": [
       "<div>\n",
       "<style scoped>\n",
       "    .dataframe tbody tr th:only-of-type {\n",
       "        vertical-align: middle;\n",
       "    }\n",
       "\n",
       "    .dataframe tbody tr th {\n",
       "        vertical-align: top;\n",
       "    }\n",
       "\n",
       "    .dataframe thead th {\n",
       "        text-align: right;\n",
       "    }\n",
       "</style>\n",
       "<table border=\"1\" class=\"dataframe\">\n",
       "  <thead>\n",
       "    <tr style=\"text-align: right;\">\n",
       "      <th></th>\n",
       "      <th>var</th>\n",
       "      <th>pvalue</th>\n",
       "    </tr>\n",
       "  </thead>\n",
       "  <tbody>\n",
       "    <tr>\n",
       "      <th>0</th>\n",
       "      <td>BP</td>\n",
       "      <td>0.0</td>\n",
       "    </tr>\n",
       "    <tr>\n",
       "      <th>1</th>\n",
       "      <td>Cholesterol</td>\n",
       "      <td>0.00059</td>\n",
       "    </tr>\n",
       "    <tr>\n",
       "      <th>2</th>\n",
       "      <td>Age_gr</td>\n",
       "      <td>0.0007</td>\n",
       "    </tr>\n",
       "    <tr>\n",
       "      <th>3</th>\n",
       "      <td>Na_K_gr</td>\n",
       "      <td>0.0</td>\n",
       "    </tr>\n",
       "  </tbody>\n",
       "</table>\n",
       "</div>"
      ],
      "text/plain": [
       "           var   pvalue\n",
       "0           BP      0.0\n",
       "1  Cholesterol  0.00059\n",
       "2       Age_gr   0.0007\n",
       "3      Na_K_gr      0.0"
      ]
     },
     "execution_count": 186,
     "metadata": {},
     "output_type": "execute_result"
    }
   ],
   "source": [
    "# =============================================================================\n",
    "# 2. Age, Sex, BP, Cholesterol 및 Na_to_k 값이 Drug 타입에 영향을 미치는지 확인하기\n",
    "\n",
    "# - Sex, BP, Cholesterol, Age_gr, Na_K_gr이 Drug 변수와 영향이 있는지 독립성 검정을\n",
    "# 수행하시오.\n",
    "# - 검정 수행 결과, Drug 타입과 연관성이 있는 변수는 몇 개인가? 연관성이 있는 변수\n",
    "# 가운데 가장 큰 p-value를 찾아 소수점 여섯 번째 자리 이하는 버리고 소수점 다섯\n",
    "# 번째 자리까지 기술하시오.\n",
    "# (답안 예시) 3, 1.23456\n",
    "# =============================================================================\n",
    "df2['Age_gr'] = np.where(df2['Age']<20, 10,\n",
    "                        np.where(df2['Age']<30, 20,\n",
    "                        np.where(df2['Age']<40, 30,\n",
    "                        np.where(df2['Age']<50, 40,\n",
    "                        np.where(df2['Age']<60, 50, 60)))))\n",
    "\n",
    "df2['Na_K_gr']=np.where(df2['Na_to_K'] <= 10, 'Lv1',\n",
    "                 np.where(df2['Na_to_K'] <= 20, 'Lv2',\n",
    "                   np.where(df2['Na_to_K'] <= 30, 'Lv3', 'Lv4')))\n",
    "\n",
    "var_lst = ['Sex', 'BP', 'Cholesterol', 'Age_gr', 'Na_K_gr']\n",
    "\n",
    "# 변수 간 독립성 검정 -> 카이제곱 검정\n",
    "from scipy.stats import chi2_contingency\n",
    "\n",
    "lst = []\n",
    "for var in var_lst:\n",
    "    # 1) 필요한 열만 추출\n",
    "    temp = df2.groupby(['Drug', var])[[var]].count().unstack().fillna(0)\n",
    "#     display(temp.head())\n",
    "    \n",
    "    # 2) 카이제곱 수행\n",
    "    output = chi2_contingency(temp)\n",
    "    if output[1] < 0.05:\n",
    "        lst.append([var, f'{np.floor(output[1]*100000)/100000}'])\n",
    "        \n",
    "res2_2 = pd.DataFrame(lst, columns=['var','pvalue'])\n",
    "print(f\"{len(res2_2)}, {res2_2['pvalue'].max()}\")\n",
    "res2_2\n",
    "# H0 : 두 변수는 독립이다. \n",
    "# H1 : 두 변수는 독립이 아니다.(=연관이 있다.)"
   ]
  },
  {
   "cell_type": "code",
   "execution_count": 205,
   "id": "e58a2513",
   "metadata": {},
   "outputs": [
    {
     "data": {
      "text/plain": [
       "[Text(0.625, 0.875, 'Na_to_K <= 14.829\\ngini = 0.694\\nsamples = 200\\nvalue = [91, 23, 16, 16, 54]\\nclass = DrugY'),\n",
       " Text(0.5, 0.625, 'BP_cd <= 1.5\\ngini = 0.667\\nsamples = 109\\nvalue = [0, 23, 16, 16, 54]\\nclass = drugB'),\n",
       " Text(0.25, 0.375, 'BP_cd <= 0.5\\ngini = 0.353\\nsamples = 70\\nvalue = [0, 0, 0, 16, 54]\\nclass = drugB'),\n",
       " Text(0.125, 0.125, '\\n  (...)  \\n'),\n",
       " Text(0.375, 0.125, '\\n  (...)  \\n'),\n",
       " Text(0.75, 0.375, 'Age <= 50.5\\ngini = 0.484\\nsamples = 39\\nvalue = [0, 23, 16, 0, 0]\\nclass = drugC'),\n",
       " Text(0.625, 0.125, '\\n  (...)  \\n'),\n",
       " Text(0.875, 0.125, '\\n  (...)  \\n'),\n",
       " Text(0.75, 0.625, 'gini = 0.0\\nsamples = 91\\nvalue = [91, 0, 0, 0, 0]\\nclass = DrugY')]"
      ]
     },
     "execution_count": 205,
     "metadata": {},
     "output_type": "execute_result"
    },
    {
     "data": {
      "image/png": "[encoded data removed]",
      "text/plain": [
       "<Figure size 432x288 with 1 Axes>"
      ]
     },
     "metadata": {
      "needs_background": "light"
     },
     "output_type": "display_data"
    }
   ],
   "source": [
    "# =============================================================================\n",
    "# 3.Sex, BP, Cholesterol 등 세 개의 변수를 다음과 같이 변환하고 의사결정나무를 이용한\n",
    "# 분석을 수행하시오.\n",
    "\n",
    "# - Age, Na_to_k, Sex_cd, BP_cd, Ch_cd를 Feature로, Drug을 Label로 하여 의사결정나무를\n",
    "# 수행하고 Root Node의 split feature와 split value를 기술하시오. \n",
    "# 이 때 split value는 소수점 셋째 자리까지 반올림하여 기술하시오. (답안 예시) Age, \n",
    "# 12.345\n",
    "# =============================================================================\n",
    "from sklearn.tree import DecisionTreeClassifier, plot_tree, export_text\n",
    "q3 = df2.copy()\n",
    "\n",
    "q3['Sex_cd'] = [0 if val=='M' else 1 for val in q3['Sex']]\n",
    "q3['BP_cd'] = [0 if val=='LOW' else 1 if val=='NORMAL' else 2 for val in q3['BP']]\n",
    "q3['Ch_cd'] = [0 if val=='NORMAL' else 1 for val in q3['Cholesterol']]\n",
    "\n",
    "var_lst = ['Age', 'Na_to_K', 'Sex_cd', 'BP_cd', 'Ch_cd']\n",
    "dtc = DecisionTreeClassifier(random_state=2022).fit(q3[var_lst], q3['Drug']) # featur, label\n",
    "\n",
    "# help(plot_tree)\n",
    "plot_tree(dtc, \n",
    "          feature_names = var_lst, \n",
    "          class_names = q3['Drug'].unique(), \n",
    "          max_depth=2, fontsize=7)"
   ]
  },
  {
   "cell_type": "markdown",
   "id": "913f38b5",
   "metadata": {},
   "source": [
    "## Set3"
   ]
  },
  {
   "cell_type": "code",
   "execution_count": 257,
   "id": "654574d8",
   "metadata": {},
   "outputs": [
    {
     "name": "stdout",
     "output_type": "stream",
     "text": [
      "Index(['long_hair', 'forehead_width_cm', 'forehead_height_cm', 'nose_wide',\n",
      "       'nose_long', 'lips_thin', 'distance_nose_to_lip_long', 'gender'],\n",
      "      dtype='object')\n"
     ]
    },
    {
     "data": {
      "text/html": [
       "<div>\n",
       "<style scoped>\n",
       "    .dataframe tbody tr th:only-of-type {\n",
       "        vertical-align: middle;\n",
       "    }\n",
       "\n",
       "    .dataframe tbody tr th {\n",
       "        vertical-align: top;\n",
       "    }\n",
       "\n",
       "    .dataframe thead th {\n",
       "        text-align: right;\n",
       "    }\n",
       "</style>\n",
       "<table border=\"1\" class=\"dataframe\">\n",
       "  <thead>\n",
       "    <tr style=\"text-align: right;\">\n",
       "      <th></th>\n",
       "      <th>long_hair</th>\n",
       "      <th>forehead_width_cm</th>\n",
       "      <th>forehead_height_cm</th>\n",
       "      <th>nose_wide</th>\n",
       "      <th>nose_long</th>\n",
       "      <th>lips_thin</th>\n",
       "      <th>distance_nose_to_lip_long</th>\n",
       "      <th>gender</th>\n",
       "    </tr>\n",
       "  </thead>\n",
       "  <tbody>\n",
       "    <tr>\n",
       "      <th>0</th>\n",
       "      <td>1</td>\n",
       "      <td>11.8</td>\n",
       "      <td>6.1</td>\n",
       "      <td>1</td>\n",
       "      <td>0</td>\n",
       "      <td>1</td>\n",
       "      <td>1</td>\n",
       "      <td>Male</td>\n",
       "    </tr>\n",
       "    <tr>\n",
       "      <th>1</th>\n",
       "      <td>0</td>\n",
       "      <td>14.0</td>\n",
       "      <td>5.4</td>\n",
       "      <td>0</td>\n",
       "      <td>0</td>\n",
       "      <td>1</td>\n",
       "      <td>0</td>\n",
       "      <td>Female</td>\n",
       "    </tr>\n",
       "    <tr>\n",
       "      <th>2</th>\n",
       "      <td>0</td>\n",
       "      <td>11.8</td>\n",
       "      <td>6.3</td>\n",
       "      <td>1</td>\n",
       "      <td>1</td>\n",
       "      <td>1</td>\n",
       "      <td>1</td>\n",
       "      <td>Male</td>\n",
       "    </tr>\n",
       "  </tbody>\n",
       "</table>\n",
       "</div>"
      ],
      "text/plain": [
       "   long_hair  forehead_width_cm  forehead_height_cm  nose_wide  nose_long  \\\n",
       "0          1               11.8                 6.1          1          0   \n",
       "1          0               14.0                 5.4          0          0   \n",
       "2          0               11.8                 6.3          1          1   \n",
       "\n",
       "   lips_thin  distance_nose_to_lip_long  gender  \n",
       "0          1                          1    Male  \n",
       "1          1                          0  Female  \n",
       "2          1                          1    Male  "
      ]
     },
     "execution_count": 257,
     "metadata": {},
     "output_type": "execute_result"
    }
   ],
   "source": [
    "df3 = pd.read_csv(path+'DataSet_03.csv')\n",
    "print(df3.columns)\n",
    "df3.head(3)"
   ]
  },
  {
   "cell_type": "code",
   "execution_count": 262,
   "id": "6cdceb98",
   "metadata": {},
   "outputs": [
    {
     "data": {
      "text/plain": [
       "3"
      ]
     },
     "execution_count": 262,
     "metadata": {},
     "output_type": "execute_result"
    }
   ],
   "source": [
    "# =============================================================================\n",
    "# 1.이마의 폭(forehead_width_cm)과 높이(forehead_height_cm) 사이의\n",
    "# 비율(forehead_ratio)에 대해서 평균으로부터 3 표준편차 밖의 경우를 이상치로\n",
    "# 정의할 때, 이상치에 해당하는 데이터는 몇 개인가? (답안 예시) 10\n",
    "# =============================================================================\n",
    "q1 = df3.copy()\n",
    "q1['forehead_ratio'] = q1['forehead_width_cm']/ q1['forehead_height_cm']\n",
    "\n",
    "std = q1['forehead_ratio'].std()\n",
    "m = q1['forehead_ratio'].mean()\n",
    "\n",
    "mn = m - (3*std)\n",
    "mx = m + (3*std)\n",
    "\n",
    "len(q1[(q1['forehead_ratio'] > mx) | (q1['forehead_ratio'] < mn)])\n",
    "# # df3[df3[['forehead_ratio']] > mx]['forehead_ratio']\n",
    "# df3.head()"
   ]
  },
  {
   "cell_type": "code",
   "execution_count": 267,
   "id": "71952032",
   "metadata": {
    "scrolled": true
   },
   "outputs": [
    {
     "name": "stdout",
     "output_type": "stream",
     "text": [
      "Help on function ttest_1samp in module scipy.stats.stats:\n",
      "\n",
      "ttest_1samp(a, popmean, axis=0, nan_policy='propagate', alternative='two-sided')\n",
      "    Calculate the T-test for the mean of ONE group of scores.\n",
      "    \n",
      "    This is a two-sided test for the null hypothesis that the expected value\n",
      "    (mean) of a sample of independent observations `a` is equal to the given\n",
      "    population mean, `popmean`.\n",
      "    \n",
      "    Parameters\n",
      "    ----------\n",
      "    a : array_like\n",
      "        Sample observation.\n",
      "    popmean : float or array_like\n",
      "        Expected value in null hypothesis. If array_like, then it must have the\n",
      "        same shape as `a` excluding the axis dimension.\n",
      "    axis : int or None, optional\n",
      "        Axis along which to compute test; default is 0. If None, compute over\n",
      "        the whole array `a`.\n",
      "    nan_policy : {'propagate', 'raise', 'omit'}, optional\n",
      "        Defines how to handle when input contains nan.\n",
      "        The following options are available (default is 'propagate'):\n",
      "    \n",
      "          * 'propagate': returns nan\n",
      "          * 'raise': throws an error\n",
      "          * 'omit': performs the calculations ignoring nan values\n",
      "    alternative : {'two-sided', 'less', 'greater'}, optional\n",
      "        Defines the alternative hypothesis.\n",
      "        The following options are available (default is 'two-sided'):\n",
      "    \n",
      "          * 'two-sided'\n",
      "          * 'less': one-sided\n",
      "          * 'greater': one-sided\n",
      "    \n",
      "        .. versionadded:: 1.6.0\n",
      "    \n",
      "    Returns\n",
      "    -------\n",
      "    statistic : float or array\n",
      "        t-statistic.\n",
      "    pvalue : float or array\n",
      "        Two-sided p-value.\n",
      "    \n",
      "    Examples\n",
      "    --------\n",
      "    >>> from scipy import stats\n",
      "    >>> rng = np.random.default_rng()\n",
      "    >>> rvs = stats.norm.rvs(loc=5, scale=10, size=(50, 2), random_state=rng)\n",
      "    \n",
      "    Test if mean of random sample is equal to true mean, and different mean.\n",
      "    We reject the null hypothesis in the second case and don't reject it in\n",
      "    the first case.\n",
      "    \n",
      "    >>> stats.ttest_1samp(rvs, 5.0)\n",
      "    Ttest_1sampResult(statistic=array([-2.09794637, -1.75977004]), pvalue=array([0.04108952, 0.08468867]))\n",
      "    >>> stats.ttest_1samp(rvs, 0.0)\n",
      "    Ttest_1sampResult(statistic=array([1.64495065, 1.62095307]), pvalue=array([0.10638103, 0.11144602]))\n",
      "    \n",
      "    Examples using axis and non-scalar dimension for population mean.\n",
      "    \n",
      "    >>> result = stats.ttest_1samp(rvs, [5.0, 0.0])\n",
      "    >>> result.statistic\n",
      "    array([-2.09794637,  1.62095307])\n",
      "    >>> result.pvalue\n",
      "    array([0.04108952, 0.11144602])\n",
      "    \n",
      "    >>> result = stats.ttest_1samp(rvs.T, [5.0, 0.0], axis=1)\n",
      "    >>> result.statistic\n",
      "    array([-2.09794637,  1.62095307])\n",
      "    >>> result.pvalue\n",
      "    array([0.04108952, 0.11144602])\n",
      "    \n",
      "    >>> result = stats.ttest_1samp(rvs, [[5.0], [0.0]])\n",
      "    >>> result.statistic\n",
      "    array([[-2.09794637, -1.75977004],\n",
      "           [ 1.64495065,  1.62095307]])\n",
      "    >>> result.pvalue\n",
      "    array([[0.04108952, 0.08468867],\n",
      "           [0.10638103, 0.11144602]])\n",
      "\n"
     ]
    },
    {
     "ename": "TypeError",
     "evalue": "unsupported operand type(s) for -: 'str' and 'float'",
     "output_type": "error",
     "traceback": [
      "\u001b[1;31m---------------------------------------------------------------------------\u001b[0m",
      "\u001b[1;31mTypeError\u001b[0m                                 Traceback (most recent call last)",
      "Input \u001b[1;32mIn [267]\u001b[0m, in \u001b[0;36m<cell line: 13>\u001b[1;34m()\u001b[0m\n\u001b[0;32m     11\u001b[0m q2 \u001b[38;5;241m=\u001b[39m q1[[\u001b[38;5;124m'\u001b[39m\u001b[38;5;124mgender\u001b[39m\u001b[38;5;124m'\u001b[39m, \u001b[38;5;124m'\u001b[39m\u001b[38;5;124mforehead_ratio\u001b[39m\u001b[38;5;124m'\u001b[39m]]\n\u001b[0;32m     12\u001b[0m help(ttest_1samp)\n\u001b[1;32m---> 13\u001b[0m \u001b[43mttest_rel\u001b[49m\u001b[43m(\u001b[49m\u001b[43mq2\u001b[49m\u001b[43m[\u001b[49m\u001b[38;5;124;43m'\u001b[39;49m\u001b[38;5;124;43mgender\u001b[39;49m\u001b[38;5;124;43m'\u001b[39;49m\u001b[43m]\u001b[49m\u001b[43m,\u001b[49m\u001b[43m \u001b[49m\u001b[43mq2\u001b[49m\u001b[43m[\u001b[49m\u001b[38;5;124;43m'\u001b[39;49m\u001b[38;5;124;43mforehead_ratio\u001b[39;49m\u001b[38;5;124;43m'\u001b[39;49m\u001b[43m]\u001b[49m\u001b[43m)\u001b[49m\n",
      "File \u001b[1;32m~\\anaconda3\\envs\\kdig\\lib\\site-packages\\scipy\\stats\\stats.py:6453\u001b[0m, in \u001b[0;36mttest_rel\u001b[1;34m(a, b, axis, nan_policy, alternative)\u001b[0m\n\u001b[0;32m   6450\u001b[0m n \u001b[38;5;241m=\u001b[39m a\u001b[38;5;241m.\u001b[39mshape[axis]\n\u001b[0;32m   6451\u001b[0m df \u001b[38;5;241m=\u001b[39m n \u001b[38;5;241m-\u001b[39m \u001b[38;5;241m1\u001b[39m\n\u001b[1;32m-> 6453\u001b[0m d \u001b[38;5;241m=\u001b[39m (\u001b[43ma\u001b[49m\u001b[43m \u001b[49m\u001b[38;5;241;43m-\u001b[39;49m\u001b[43m \u001b[49m\u001b[43mb\u001b[49m)\u001b[38;5;241m.\u001b[39mastype(np\u001b[38;5;241m.\u001b[39mfloat64)\n\u001b[0;32m   6454\u001b[0m v \u001b[38;5;241m=\u001b[39m np\u001b[38;5;241m.\u001b[39mvar(d, axis, ddof\u001b[38;5;241m=\u001b[39m\u001b[38;5;241m1\u001b[39m)\n\u001b[0;32m   6455\u001b[0m dm \u001b[38;5;241m=\u001b[39m np\u001b[38;5;241m.\u001b[39mmean(d, axis)\n",
      "\u001b[1;31mTypeError\u001b[0m: unsupported operand type(s) for -: 'str' and 'float'"
     ]
    }
   ],
   "source": [
    "# =============================================================================\n",
    "# 2.성별에 따라 forehead_ratio 평균에 차이가 있는지 적절한 통계 검정을 수행하시오.\n",
    "# - 검정은 이분산을 가정하고 수행한다.\n",
    "# - 검정통계량의 추정치는 절대값을 취한 후 소수점 셋째 자리까지 반올림하여\n",
    "# 기술하시오.\n",
    "# - 신뢰수준 99%에서 양측 검정을 수행하고 결과는 귀무가설 기각의 경우 Y로, 그렇지\n",
    "# 않을 경우 N으로 답하시오. (답안 예시) 1.234, Y\n",
    "# =============================================================================\n",
    "# from scipy.stats import ttest_rel, ttest_1samp\n",
    "\n",
    "# q2 = q1[['gender', 'forehead_ratio']]\n",
    "# help(ttest_1samp)\n",
    "# ttest_rel(q2['gender'], q2['forehead_ratio'])"
   ]
  },
  {
   "cell_type": "code",
   "execution_count": 297,
   "id": "a16443f7",
   "metadata": {},
   "outputs": [
    {
     "name": "stdout",
     "output_type": "stream",
     "text": [
      "0.97\n"
     ]
    }
   ],
   "source": [
    "# =============================================================================\n",
    "# 3.주어진 데이터를 사용하여 성별을 구분할 수 있는지 로지스틱 회귀분석을 적용하여\n",
    "# 알아 보고자 한다. \n",
    "# - 데이터를 7대 3으로 나누어 각각 Train과 Test set로 사용한다. 이 때 seed는 123으로\n",
    "# 한다.\n",
    "# - 원 데이터에 있는 7개의 변수만 Feature로 사용하고 gender를 label로 사용한다.\n",
    "# (forehead_ratio는 사용하지 않음)\n",
    "# - 로지스틱 회귀분석 예측 함수와 Test dataset를 사용하여 예측을 수행하고 정확도를\n",
    "# 평가한다. 이 때 임계값은 0.5를 사용한다. \n",
    "# - Male의 Precision 값을 소수점 둘째 자리까지 반올림하여 기술하시오. (답안 예시) \n",
    "# 0.12\n",
    "# \n",
    "# \n",
    "# (참고) \n",
    "from sklearn.linear_model import LogisticRegression\n",
    "from sklearn.model_selection import train_test_split\n",
    "from sklearn import metrics\n",
    "# train_test_split 의 random_state = 123\n",
    "# =============================================================================\n",
    "seed = 123\n",
    "\n",
    "X_train, X_test, y_train, y_test = train_test_split(\n",
    "    df3[['long_hair', 'forehead_width_cm', 'forehead_height_cm', 'nose_wide',\n",
    "       'nose_long', 'lips_thin', 'distance_nose_to_lip_long']], df3['gender'],\n",
    "    random_state=seed, test_size  = 0.3\n",
    ")\n",
    "\n",
    "lr = LogisticRegression(random_state=seed).fit(X_train, y_train)\n",
    "pred = lr.predict(X_test)\n",
    "# acc = score(y_test, pred)\n",
    "# pred_pr = lr.predict_proba(X_test)\n",
    "# pred_pr2 = np.where(pred_pr[:,1] >= 0.5, 'Male', 'Female')\n",
    "\n",
    "# 정확도 평가 \n",
    "res = metrics.precision_score(pred, y_test, pos_label='Male')\n",
    "print(round(res, 2))\n",
    "# lr.score(pred, y_test)"
   ]
  },
  {
   "cell_type": "markdown",
   "id": "125a80b9",
   "metadata": {},
   "source": [
    "## Set4"
   ]
  },
  {
   "cell_type": "code",
   "execution_count": 43,
   "id": "524c6ece",
   "metadata": {},
   "outputs": [
    {
     "name": "stdout",
     "output_type": "stream",
     "text": [
      "Index(['LOCATION', 'SUBJECT', 'TIME', 'Value'], dtype='object')\n"
     ]
    },
    {
     "data": {
      "text/html": [
       "<div>\n",
       "<style scoped>\n",
       "    .dataframe tbody tr th:only-of-type {\n",
       "        vertical-align: middle;\n",
       "    }\n",
       "\n",
       "    .dataframe tbody tr th {\n",
       "        vertical-align: top;\n",
       "    }\n",
       "\n",
       "    .dataframe thead th {\n",
       "        text-align: right;\n",
       "    }\n",
       "</style>\n",
       "<table border=\"1\" class=\"dataframe\">\n",
       "  <thead>\n",
       "    <tr style=\"text-align: right;\">\n",
       "      <th></th>\n",
       "      <th>LOCATION</th>\n",
       "      <th>SUBJECT</th>\n",
       "      <th>TIME</th>\n",
       "      <th>Value</th>\n",
       "    </tr>\n",
       "  </thead>\n",
       "  <tbody>\n",
       "    <tr>\n",
       "      <th>0</th>\n",
       "      <td>AUS</td>\n",
       "      <td>BEEF</td>\n",
       "      <td>1991</td>\n",
       "      <td>27.721815</td>\n",
       "    </tr>\n",
       "    <tr>\n",
       "      <th>1</th>\n",
       "      <td>AUS</td>\n",
       "      <td>BEEF</td>\n",
       "      <td>1992</td>\n",
       "      <td>26.199591</td>\n",
       "    </tr>\n",
       "    <tr>\n",
       "      <th>2</th>\n",
       "      <td>AUS</td>\n",
       "      <td>BEEF</td>\n",
       "      <td>1993</td>\n",
       "      <td>26.169094</td>\n",
       "    </tr>\n",
       "  </tbody>\n",
       "</table>\n",
       "</div>"
      ],
      "text/plain": [
       "  LOCATION SUBJECT  TIME      Value\n",
       "0      AUS    BEEF  1991  27.721815\n",
       "1      AUS    BEEF  1992  26.199591\n",
       "2      AUS    BEEF  1993  26.169094"
      ]
     },
     "execution_count": 43,
     "metadata": {},
     "output_type": "execute_result"
    }
   ],
   "source": [
    "df4 = pd.read_csv(path+'DataSet_04.csv')\n",
    "print(df4.columns)\n",
    "df4.head(3)"
   ]
  },
  {
   "cell_type": "code",
   "execution_count": 52,
   "id": "f88d264d",
   "metadata": {},
   "outputs": [
    {
     "data": {
      "text/plain": [
       "TIME    0.33\n",
       "Name: Value, dtype: float64"
      ]
     },
     "execution_count": 52,
     "metadata": {},
     "output_type": "execute_result"
    }
   ],
   "source": [
    "# =============================================================================\n",
    "# 1.한국인의 1인당 육류 소비량이 해가 갈수록 증가하는 것으로 보여 상관분석을 통하여\n",
    "# 확인하려고 한다. \n",
    "# =============================================================================\n",
    "kor = df4[df4.LOCATION =='KOR']\n",
    "round(kor[['TIME','Value']].corr().drop('Value')['Value'], 2)"
   ]
  },
  {
   "cell_type": "code",
   "execution_count": 56,
   "id": "3096845b",
   "metadata": {
    "scrolled": true
   },
   "outputs": [
    {
     "data": {
      "text/html": [
       "<div>\n",
       "<style scoped>\n",
       "    .dataframe tbody tr th:only-of-type {\n",
       "        vertical-align: middle;\n",
       "    }\n",
       "\n",
       "    .dataframe tbody tr th {\n",
       "        vertical-align: top;\n",
       "    }\n",
       "\n",
       "    .dataframe thead th {\n",
       "        text-align: right;\n",
       "    }\n",
       "</style>\n",
       "<table border=\"1\" class=\"dataframe\">\n",
       "  <thead>\n",
       "    <tr style=\"text-align: right;\">\n",
       "      <th>LOCATION</th>\n",
       "      <th>JPN</th>\n",
       "      <th>KOR</th>\n",
       "    </tr>\n",
       "    <tr>\n",
       "      <th>TIME</th>\n",
       "      <th></th>\n",
       "      <th></th>\n",
       "    </tr>\n",
       "  </thead>\n",
       "  <tbody>\n",
       "    <tr>\n",
       "      <th>1991</th>\n",
       "      <td>6.517055</td>\n",
       "      <td>5.085481</td>\n",
       "    </tr>\n",
       "    <tr>\n",
       "      <th>1992</th>\n",
       "      <td>6.766244</td>\n",
       "      <td>5.685434</td>\n",
       "    </tr>\n",
       "    <tr>\n",
       "      <th>1993</th>\n",
       "      <td>7.406407</td>\n",
       "      <td>5.325765</td>\n",
       "    </tr>\n",
       "    <tr>\n",
       "      <th>1994</th>\n",
       "      <td>8.129090</td>\n",
       "      <td>5.698819</td>\n",
       "    </tr>\n",
       "    <tr>\n",
       "      <th>1995</th>\n",
       "      <td>8.535522</td>\n",
       "      <td>6.568429</td>\n",
       "    </tr>\n",
       "  </tbody>\n",
       "</table>\n",
       "</div>"
      ],
      "text/plain": [
       "LOCATION       JPN       KOR\n",
       "TIME                        \n",
       "1991      6.517055  5.085481\n",
       "1992      6.766244  5.685434\n",
       "1993      7.406407  5.325765\n",
       "1994      8.129090  5.698819\n",
       "1995      8.535522  6.568429"
      ]
     },
     "execution_count": 56,
     "metadata": {},
     "output_type": "execute_result"
    }
   ],
   "source": [
    "# =============================================================================\n",
    "# 2. 한국 인근 국가 가운데 식생의 유사성이 상대적으로 높은 일본(JPN)과 비교하여, 연도별\n",
    "# 소비량에 평균 차이가 있는지 분석하고자 한다.\n",
    "# - 두 국가의 육류별 소비량을 연도기준으로 비교하는 대응표본 t 검정을 수행하시오.\n",
    "# =============================================================================\n",
    "from scipy.stats import ttest_rel\n",
    "\n",
    "sub_lst = df4.SUBJECT.unique()\n",
    "jp = df4[df4.LOCATION =='JPN']\n",
    "q4 = pd.concat([kor, jp])\n",
    "\n",
    "temp = q4[q4.SUBJECT == 'BEEF']\n",
    "tab=pd.pivot_table(temp,\n",
    "                   index='TIME',\n",
    "                   columns='LOCATION',\n",
    "                   values='Value').dropna()\n",
    "tab.head()"
   ]
  },
  {
   "cell_type": "code",
   "execution_count": 75,
   "id": "24c558a6",
   "metadata": {
    "scrolled": true
   },
   "outputs": [
    {
     "data": {
      "text/html": [
       "<div>\n",
       "<style scoped>\n",
       "    .dataframe tbody tr th:only-of-type {\n",
       "        vertical-align: middle;\n",
       "    }\n",
       "\n",
       "    .dataframe tbody tr th {\n",
       "        vertical-align: top;\n",
       "    }\n",
       "\n",
       "    .dataframe thead tr th {\n",
       "        text-align: left;\n",
       "    }\n",
       "\n",
       "    .dataframe thead tr:last-of-type th {\n",
       "        text-align: right;\n",
       "    }\n",
       "</style>\n",
       "<table border=\"1\" class=\"dataframe\">\n",
       "  <thead>\n",
       "    <tr>\n",
       "      <th></th>\n",
       "      <th colspan=\"2\" halign=\"left\">Value</th>\n",
       "    </tr>\n",
       "    <tr>\n",
       "      <th>LOCATION</th>\n",
       "      <th>JPN</th>\n",
       "      <th>KOR</th>\n",
       "    </tr>\n",
       "    <tr>\n",
       "      <th>TIME</th>\n",
       "      <th></th>\n",
       "      <th></th>\n",
       "    </tr>\n",
       "  </thead>\n",
       "  <tbody>\n",
       "    <tr>\n",
       "      <th>1991</th>\n",
       "      <td>6.517055</td>\n",
       "      <td>5.085481</td>\n",
       "    </tr>\n",
       "    <tr>\n",
       "      <th>1992</th>\n",
       "      <td>6.766244</td>\n",
       "      <td>5.685434</td>\n",
       "    </tr>\n",
       "    <tr>\n",
       "      <th>1993</th>\n",
       "      <td>7.406407</td>\n",
       "      <td>5.325765</td>\n",
       "    </tr>\n",
       "    <tr>\n",
       "      <th>1994</th>\n",
       "      <td>8.129090</td>\n",
       "      <td>5.698819</td>\n",
       "    </tr>\n",
       "    <tr>\n",
       "      <th>1995</th>\n",
       "      <td>8.535522</td>\n",
       "      <td>6.568429</td>\n",
       "    </tr>\n",
       "  </tbody>\n",
       "</table>\n",
       "</div>"
      ],
      "text/plain": [
       "             Value          \n",
       "LOCATION       JPN       KOR\n",
       "TIME                        \n",
       "1991      6.517055  5.085481\n",
       "1992      6.766244  5.685434\n",
       "1993      7.406407  5.325765\n",
       "1994      8.129090  5.698819\n",
       "1995      8.535522  6.568429"
      ]
     },
     "execution_count": 75,
     "metadata": {},
     "output_type": "execute_result"
    }
   ],
   "source": [
    "tab4 = temp.groupby(['TIME','LOCATION'])[['Value']].sum().unstack().dropna()\n",
    "tab4.head()"
   ]
  },
  {
   "cell_type": "code",
   "execution_count": 79,
   "id": "65d27cbf",
   "metadata": {},
   "outputs": [
    {
     "data": {
      "text/plain": [
       "MultiIndex([('Value', 'JPN'),\n",
       "            ('Value', 'KOR')],\n",
       "           names=[None, 'LOCATION'])"
      ]
     },
     "execution_count": 79,
     "metadata": {},
     "output_type": "execute_result"
    }
   ],
   "source": [
    "tab4.columns"
   ]
  },
  {
   "cell_type": "code",
   "execution_count": 82,
   "id": "a21752b3",
   "metadata": {},
   "outputs": [
    {
     "data": {
      "text/plain": [
       "0.0004"
      ]
     },
     "execution_count": 82,
     "metadata": {},
     "output_type": "execute_result"
    }
   ],
   "source": [
    "from scipy.stats import ttest_rel\n",
    "t_out4 = ttest_rel(tab4[('Value', 'JPN')], tab4[ ('Value', 'KOR')])\n",
    "round(t_out4.pvalue, 4)"
   ]
  },
  {
   "cell_type": "code",
   "execution_count": 87,
   "id": "83eb9879",
   "metadata": {},
   "outputs": [
    {
     "name": "stdout",
     "output_type": "stream",
     "text": [
      "BEEF \t 0.0004\n",
      "PIG \t 0.0\n",
      "POULTRY \t 0.4691\n",
      "SHEEP \t 0.0\n"
     ]
    }
   ],
   "source": [
    "# 반복\n",
    "for val in sub_lst:\n",
    "    temp = q4[q4.SUBJECT == val]\n",
    "    tab = temp.groupby(['TIME', 'LOCATION'])[['Value']].sum().unstack().dropna()\n",
    "    out = ttest_rel(tab[('Value', 'JPN')], tab[ ('Value', 'KOR')])\n",
    "    print(val, '\\t',round(out.pvalue, 4))\n",
    "    \n",
    "# 정답 POULTRY "
   ]
  },
  {
   "cell_type": "code",
   "execution_count": 108,
   "id": "a6483697",
   "metadata": {
    "scrolled": true
   },
   "outputs": [
    {
     "name": "stdout",
     "output_type": "stream",
     "text": [
      "BEEF\t0.8306\t7.31\n",
      "PIG\t0.9389\t5.63\n",
      "POULTRY\t0.9501\t5.78\n",
      "SHEEP\t-0.0244\t33.35\n"
     ]
    }
   ],
   "source": [
    "# =============================================================================\n",
    "# 3.(한국만 포함한 데이터에서) Time을 독립변수로, Value를 종속변수로 하여 육류\n",
    "# 종류(SUBJECT) 별로 회귀분석을 수행하였을 때, 가장 높은 결정계수를 가진 모델의\n",
    "# 학습오차 중 MAPE를 반올림하여 소수점 둘째 자리까지 기술하시오. (답안 예시) 21.12\n",
    "# (MAPE : Mean Absolute Percentage Error, 평균 절대 백분율 오차)\n",
    "# (MAPE = Σ ( | y - y ̂ | / y ) * 100/n ))\n",
    "# \n",
    "# =============================================================================\n",
    "\n",
    "from statsmodels.formula.api import ols\n",
    "# ols는 더미변수를 따로  생성할 필요가 없음\n",
    "\n",
    "for val in kor.SUBJECT.unique():\n",
    "    \n",
    "    # 1) 육류 종류별로 나누고\n",
    "    temp = kor[kor.SUBJECT==val]\n",
    "    \n",
    "    # 2) 회귀식 생성\n",
    "    lm4 = ols('Value~TIME', temp).fit()\n",
    "    \n",
    "    # 3) 결정계수와 MAPE\n",
    "    r2 = lm4.rsquared_adj\n",
    "    \n",
    "    # 4) MAPE 계산 \n",
    "      ### 4-1) y^ (=pred) 계산\n",
    "    pred = lm4.predict(temp[['TIME']])\n",
    "    mape = sum(abs(temp['Value'] - pred) / temp['Value']) * 100 / len(temp)\n",
    "    print(f'{val}\\t{round(r2,4)}\\t{round(mape, 2)}')\n",
    "    \n",
    "# POULTRY의 MAPE"
   ]
  },
  {
   "cell_type": "markdown",
   "id": "b183f4ed",
   "metadata": {},
   "source": [
    "## Set5"
   ]
  },
  {
   "cell_type": "code",
   "execution_count": null,
   "id": "35246648",
   "metadata": {},
   "outputs": [],
   "source": [
    "df4 = pd.read_csv(path+'DataSet_04.csv')\n",
    "print(df4.columns)\n",
    "df4.head(3)"
   ]
  }
 ],
 "metadata": {
  "kernelspec": {
   "display_name": "Python 3 (ipykernel)",
   "language": "python",
   "name": "python3"
  },
  "language_info": {
   "codemirror_mode": {
    "name": "ipython",
    "version": 3
   },
   "file_extension": ".py",
   "mimetype": "text/x-python",
   "name": "python",
   "nbconvert_exporter": "python",
   "pygments_lexer": "ipython3",
   "version": "3.9.7"
  }
 },
 "nbformat": 4,
 "nbformat_minor": 5
}
