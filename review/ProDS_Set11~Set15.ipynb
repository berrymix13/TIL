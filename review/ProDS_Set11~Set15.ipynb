{
 "cells": [
  {
   "cell_type": "code",
   "execution_count": 1,
   "id": "bba29c5d",
   "metadata": {},
   "outputs": [],
   "source": [
    "import warnings\n",
    "import pandas as pd\n",
    "import numpy as np\n",
    "import scipy.stats as st\n",
    "from statsmodels.formula.api import ols\n",
    "warnings.filterwarnings('ignore')"
   ]
  },
  {
   "cell_type": "markdown",
   "id": "3df6351a",
   "metadata": {},
   "source": [
    "## Set11"
   ]
  },
  {
   "cell_type": "code",
   "execution_count": 122,
   "id": "6b01586b",
   "metadata": {},
   "outputs": [
    {
     "data": {
      "text/html": [
       "<div>\n",
       "<style scoped>\n",
       "    .dataframe tbody tr th:only-of-type {\n",
       "        vertical-align: middle;\n",
       "    }\n",
       "\n",
       "    .dataframe tbody tr th {\n",
       "        vertical-align: top;\n",
       "    }\n",
       "\n",
       "    .dataframe thead th {\n",
       "        text-align: right;\n",
       "    }\n",
       "</style>\n",
       "<table border=\"1\" class=\"dataframe\">\n",
       "  <thead>\n",
       "    <tr style=\"text-align: right;\">\n",
       "      <th></th>\n",
       "      <th>Country</th>\n",
       "      <th>Happiness_Rank</th>\n",
       "      <th>Happiness_Score</th>\n",
       "      <th>year</th>\n",
       "    </tr>\n",
       "  </thead>\n",
       "  <tbody>\n",
       "    <tr>\n",
       "      <th>0</th>\n",
       "      <td>Switzerland</td>\n",
       "      <td>1</td>\n",
       "      <td>7.587</td>\n",
       "      <td>2015</td>\n",
       "    </tr>\n",
       "    <tr>\n",
       "      <th>1</th>\n",
       "      <td>Iceland</td>\n",
       "      <td>2</td>\n",
       "      <td>7.561</td>\n",
       "      <td>2015</td>\n",
       "    </tr>\n",
       "    <tr>\n",
       "      <th>2</th>\n",
       "      <td>Denmark</td>\n",
       "      <td>3</td>\n",
       "      <td>7.527</td>\n",
       "      <td>2015</td>\n",
       "    </tr>\n",
       "    <tr>\n",
       "      <th>3</th>\n",
       "      <td>Norway</td>\n",
       "      <td>4</td>\n",
       "      <td>7.522</td>\n",
       "      <td>2015</td>\n",
       "    </tr>\n",
       "    <tr>\n",
       "      <th>4</th>\n",
       "      <td>Canada</td>\n",
       "      <td>5</td>\n",
       "      <td>7.427</td>\n",
       "      <td>2015</td>\n",
       "    </tr>\n",
       "  </tbody>\n",
       "</table>\n",
       "</div>"
      ],
      "text/plain": [
       "       Country  Happiness_Rank  Happiness_Score  year\n",
       "0  Switzerland               1            7.587  2015\n",
       "1      Iceland               2            7.561  2015\n",
       "2      Denmark               3            7.527  2015\n",
       "3       Norway               4            7.522  2015\n",
       "4       Canada               5            7.427  2015"
      ]
     },
     "execution_count": 122,
     "metadata": {},
     "output_type": "execute_result"
    }
   ],
   "source": [
    "df11 = pd.read_csv(path+'DataSet_11.csv')\n",
    "df11.head()"
   ]
  },
  {
   "cell_type": "code",
   "execution_count": 123,
   "id": "14c00d4b",
   "metadata": {},
   "outputs": [
    {
     "name": "stdout",
     "output_type": "stream",
     "text": [
      "20\n"
     ]
    }
   ],
   "source": [
    "# =============================================================================\n",
    "# 1. O\n",
    "# =============================================================================\n",
    "q1 = pd.DataFrame(df11.Country.value_counts() < 3)\n",
    "q1 = q1.reset_index()\n",
    "\n",
    "print(len(q1[q1['Country']==True]))\n",
    "\n",
    "q1.columns = ['Country', 'Counts']\n",
    "\n",
    "df11 = pd.merge(df11, q1, on='Country', how='outer')\n",
    "df11 = df11[df11['Counts']==False]"
   ]
  },
  {
   "cell_type": "code",
   "execution_count": 139,
   "id": "890b4b9c",
   "metadata": {},
   "outputs": [
    {
     "data": {
      "text/plain": [
       "Country\n",
       "Latvia     0.3760\n",
       "Romania    0.3505\n",
       "Togo       0.3280\n",
       "Name: calc, dtype: float64"
      ]
     },
     "execution_count": 139,
     "metadata": {},
     "output_type": "execute_result"
    }
   ],
   "source": [
    "# =============================================================================\n",
    "# 2. O 오랜만에 Df merge하는데 애먹었네\n",
    "# =============================================================================\n",
    "\n",
    "q2 = df11.copy()\n",
    "tab = pd.pivot_table(q2, index='Country', columns='year', values='Happiness_Score')\n",
    "tab['calc'] = (tab[2017] - tab[2015])/2\n",
    "tab['calc'].sort_values(ascending=False)[:3]"
   ]
  },
  {
   "cell_type": "code",
   "execution_count": 144,
   "id": "f39477e6",
   "metadata": {},
   "outputs": [
    {
     "data": {
      "text/plain": [
       "0.0042"
      ]
     },
     "execution_count": 144,
     "metadata": {},
     "output_type": "execute_result"
    }
   ],
   "source": [
    "# =============================================================================\n",
    "# 3. X(첨배움)\n",
    "# =============================================================================\n",
    "\n",
    "# 세개집단. 아노바\n",
    "from scipy.stats import f_oneway\n",
    "from statsmodels.formula.api import ols\n",
    "\n",
    "anova1 = f_oneway(tab[2015], tab[2016], tab[2017])\n",
    "np.floor(anova1[0]*10000)/10000"
   ]
  },
  {
   "cell_type": "markdown",
   "id": "bea56139",
   "metadata": {},
   "source": [
    "## Set12"
   ]
  },
  {
   "cell_type": "code",
   "execution_count": 145,
   "id": "ce568c6a",
   "metadata": {},
   "outputs": [
    {
     "data": {
      "text/html": [
       "<div>\n",
       "<style scoped>\n",
       "    .dataframe tbody tr th:only-of-type {\n",
       "        vertical-align: middle;\n",
       "    }\n",
       "\n",
       "    .dataframe tbody tr th {\n",
       "        vertical-align: top;\n",
       "    }\n",
       "\n",
       "    .dataframe thead th {\n",
       "        text-align: right;\n",
       "    }\n",
       "</style>\n",
       "<table border=\"1\" class=\"dataframe\">\n",
       "  <thead>\n",
       "    <tr style=\"text-align: right;\">\n",
       "      <th></th>\n",
       "      <th>Age</th>\n",
       "      <th>Gender</th>\n",
       "      <th>Dependent_Count</th>\n",
       "      <th>Education_Level</th>\n",
       "      <th>is_Married</th>\n",
       "      <th>Read_Book_per_Year</th>\n",
       "      <th>Income_Range</th>\n",
       "    </tr>\n",
       "  </thead>\n",
       "  <tbody>\n",
       "    <tr>\n",
       "      <th>0</th>\n",
       "      <td>52</td>\n",
       "      <td>M</td>\n",
       "      <td>2</td>\n",
       "      <td>석사</td>\n",
       "      <td>1</td>\n",
       "      <td>45</td>\n",
       "      <td>D</td>\n",
       "    </tr>\n",
       "    <tr>\n",
       "      <th>1</th>\n",
       "      <td>46</td>\n",
       "      <td>F</td>\n",
       "      <td>4</td>\n",
       "      <td>박사</td>\n",
       "      <td>1</td>\n",
       "      <td>26</td>\n",
       "      <td>X</td>\n",
       "    </tr>\n",
       "    <tr>\n",
       "      <th>2</th>\n",
       "      <td>53</td>\n",
       "      <td>F</td>\n",
       "      <td>0</td>\n",
       "      <td>석사</td>\n",
       "      <td>0</td>\n",
       "      <td>48</td>\n",
       "      <td>A</td>\n",
       "    </tr>\n",
       "    <tr>\n",
       "      <th>3</th>\n",
       "      <td>55</td>\n",
       "      <td>M</td>\n",
       "      <td>2</td>\n",
       "      <td>학사</td>\n",
       "      <td>1</td>\n",
       "      <td>45</td>\n",
       "      <td>D</td>\n",
       "    </tr>\n",
       "    <tr>\n",
       "      <th>4</th>\n",
       "      <td>51</td>\n",
       "      <td>F</td>\n",
       "      <td>3</td>\n",
       "      <td>석사</td>\n",
       "      <td>0</td>\n",
       "      <td>46</td>\n",
       "      <td>A</td>\n",
       "    </tr>\n",
       "  </tbody>\n",
       "</table>\n",
       "</div>"
      ],
      "text/plain": [
       "   Age Gender  Dependent_Count Education_Level  is_Married  \\\n",
       "0   52      M                2              석사           1   \n",
       "1   46      F                4              박사           1   \n",
       "2   53      F                0              석사           0   \n",
       "3   55      M                2              학사           1   \n",
       "4   51      F                3              석사           0   \n",
       "\n",
       "   Read_Book_per_Year Income_Range  \n",
       "0                  45            D  \n",
       "1                  26            X  \n",
       "2                  48            A  \n",
       "3                  45            D  \n",
       "4                  46            A  "
      ]
     },
     "execution_count": 145,
     "metadata": {},
     "output_type": "execute_result"
    }
   ],
   "source": [
    "df12 = pd.read_csv(path+'DataSet_12.csv')\n",
    "df12.head()"
   ]
  },
  {
   "cell_type": "code",
   "execution_count": 154,
   "id": "9859ac61",
   "metadata": {},
   "outputs": [
    {
     "name": "stdout",
     "output_type": "stream",
     "text": [
      "Read_Book_per_Year    0.797\n",
      "dtype: float64\n"
     ]
    }
   ],
   "source": [
    "# =============================================================================\n",
    "# 1. O .abs()를 꼭 사용할 것\n",
    "# =============================================================================\n",
    "q1 = df12.corr()[['Read_Book_per_Year']].drop('Read_Book_per_Year').abs().max()\n",
    "print(round(q1, 3))"
   ]
  },
  {
   "cell_type": "code",
   "execution_count": 162,
   "id": "9c7c0623",
   "metadata": {},
   "outputs": [
    {
     "name": "stdout",
     "output_type": "stream",
     "text": [
      "0.269\n"
     ]
    }
   ],
   "source": [
    "# =============================================================================\n",
    "# 2.석사 이상(석사 및 박사) 여부에 따라서 연간 독서량 평균이 유의미하게 다른지 가설\n",
    "# 검정을 활용하여 알아보고자 한다. 독립 2표본 t검정을 실시했을 때 \n",
    "# 유의 확률(p\u0002value)의 값을 기술하시오.\n",
    "# - 등분산 가정 하에서 검정을 실시한다.\n",
    "# - 유의 확률은 반올림하여 소수점 셋째 자리까지 기술한다. (답안 예시) 0.123\n",
    "# =============================================================================\n",
    "\n",
    "q2 = df12[['Education_Level', 'Read_Book_per_Year']]\n",
    "q2['Education_Level'] = q2['Education_Level'].replace('박사', '석사')\n",
    "q2['Education_Level'] = q2['Education_Level'].replace('고졸', '학사')\n",
    "\n",
    "A = q2[q2['Education_Level']=='학사'][['Read_Book_per_Year']]\n",
    "B = q2[q2['Education_Level']=='석사'][['Read_Book_per_Year']]\n",
    "\n",
    "from scipy.stats import ttest_ind\n",
    "\n",
    "out = ttest_ind(A, B)\n",
    "print(round(out[1][0], 3))"
   ]
  },
  {
   "cell_type": "code",
   "execution_count": 197,
   "id": "39cf704c",
   "metadata": {},
   "outputs": [
    {
     "name": "stdout",
     "output_type": "stream",
     "text": [
      "8\n"
     ]
    }
   ],
   "source": [
    "# =============================================================================\n",
    "# 3. ㅁ, 10살 증가이므로 회귀계수에 10을 곱해준 값이 정답임!!\n",
    "# =============================================================================\n",
    "q3 = df12[(df12['Education_Level']!='고졸')&(df12['Income_Range'] != 'X')]\n",
    "q3['Age'].astype('int32')\n",
    "\n",
    "from statsmodels.formula.api import ols\n",
    "\n",
    "var_lst = ['Age', 'Dependent_Count', 'is_Married']\n",
    "form = 'Read_Book_per_Year~'+ '+'.join(var_lst)\n",
    "out = ols(form, q3).fit()\n",
    "print(f'{out.params[1]*10:.0f}')"
   ]
  },
  {
   "cell_type": "markdown",
   "id": "d206adc2",
   "metadata": {},
   "source": [
    "## Set13"
   ]
  },
  {
   "cell_type": "code",
   "execution_count": 259,
   "id": "141c6e71",
   "metadata": {},
   "outputs": [
    {
     "name": "stdout",
     "output_type": "stream",
     "text": [
      "(1500, 10) (500, 10)\n"
     ]
    },
    {
     "data": {
      "text/html": [
       "<div>\n",
       "<style scoped>\n",
       "    .dataframe tbody tr th:only-of-type {\n",
       "        vertical-align: middle;\n",
       "    }\n",
       "\n",
       "    .dataframe tbody tr th {\n",
       "        vertical-align: top;\n",
       "    }\n",
       "\n",
       "    .dataframe thead th {\n",
       "        text-align: right;\n",
       "    }\n",
       "</style>\n",
       "<table border=\"1\" class=\"dataframe\">\n",
       "  <thead>\n",
       "    <tr style=\"text-align: right;\">\n",
       "      <th></th>\n",
       "      <th>city_development_index</th>\n",
       "      <th>gender</th>\n",
       "      <th>relevent_experience</th>\n",
       "      <th>enrolled_university</th>\n",
       "      <th>education_level</th>\n",
       "      <th>major_discipline</th>\n",
       "      <th>experience</th>\n",
       "      <th>last_new_job</th>\n",
       "      <th>training_hours</th>\n",
       "      <th>target</th>\n",
       "    </tr>\n",
       "  </thead>\n",
       "  <tbody>\n",
       "    <tr>\n",
       "      <th>0</th>\n",
       "      <td>0.516</td>\n",
       "      <td>Male</td>\n",
       "      <td>1</td>\n",
       "      <td>0</td>\n",
       "      <td>Graduate</td>\n",
       "      <td>STEM</td>\n",
       "      <td>13</td>\n",
       "      <td>5</td>\n",
       "      <td>36</td>\n",
       "      <td>1</td>\n",
       "    </tr>\n",
       "    <tr>\n",
       "      <th>1</th>\n",
       "      <td>0.766</td>\n",
       "      <td>Male</td>\n",
       "      <td>1</td>\n",
       "      <td>0</td>\n",
       "      <td>Graduate</td>\n",
       "      <td>STEM</td>\n",
       "      <td>12</td>\n",
       "      <td>5</td>\n",
       "      <td>264</td>\n",
       "      <td>0</td>\n",
       "    </tr>\n",
       "    <tr>\n",
       "      <th>2</th>\n",
       "      <td>0.920</td>\n",
       "      <td>Male</td>\n",
       "      <td>1</td>\n",
       "      <td>0</td>\n",
       "      <td>Masters</td>\n",
       "      <td>STEM</td>\n",
       "      <td>10</td>\n",
       "      <td>2</td>\n",
       "      <td>99</td>\n",
       "      <td>0</td>\n",
       "    </tr>\n",
       "    <tr>\n",
       "      <th>3</th>\n",
       "      <td>0.899</td>\n",
       "      <td>Male</td>\n",
       "      <td>1</td>\n",
       "      <td>0</td>\n",
       "      <td>Graduate</td>\n",
       "      <td>Business Degree</td>\n",
       "      <td>16</td>\n",
       "      <td>1</td>\n",
       "      <td>20</td>\n",
       "      <td>0</td>\n",
       "    </tr>\n",
       "    <tr>\n",
       "      <th>4</th>\n",
       "      <td>0.884</td>\n",
       "      <td>Male</td>\n",
       "      <td>1</td>\n",
       "      <td>0</td>\n",
       "      <td>Masters</td>\n",
       "      <td>STEM</td>\n",
       "      <td>20</td>\n",
       "      <td>5</td>\n",
       "      <td>39</td>\n",
       "      <td>0</td>\n",
       "    </tr>\n",
       "  </tbody>\n",
       "</table>\n",
       "</div>"
      ],
      "text/plain": [
       "   city_development_index gender  relevent_experience  enrolled_university  \\\n",
       "0                   0.516   Male                    1                    0   \n",
       "1                   0.766   Male                    1                    0   \n",
       "2                   0.920   Male                    1                    0   \n",
       "3                   0.899   Male                    1                    0   \n",
       "4                   0.884   Male                    1                    0   \n",
       "\n",
       "  education_level major_discipline  experience  last_new_job  training_hours  \\\n",
       "0        Graduate             STEM          13             5              36   \n",
       "1        Graduate             STEM          12             5             264   \n",
       "2         Masters             STEM          10             2              99   \n",
       "3        Graduate  Business Degree          16             1              20   \n",
       "4         Masters             STEM          20             5              39   \n",
       "\n",
       "   target  \n",
       "0       1  \n",
       "1       0  \n",
       "2       0  \n",
       "3       0  \n",
       "4       0  "
      ]
     },
     "execution_count": 259,
     "metadata": {},
     "output_type": "execute_result"
    }
   ],
   "source": [
    "df13_train = pd.read_csv(path+'DataSet_13_train.csv')\n",
    "df13_test = pd.read_csv(path+'DataSet_13_test.csv')\n",
    "print(df13_train.shape, df13_test.shape)\n",
    "df13_train.head()"
   ]
  },
  {
   "cell_type": "code",
   "execution_count": 213,
   "id": "a1708130",
   "metadata": {},
   "outputs": [
    {
     "data": {
      "text/plain": [
       "last_new_job    0.45\n",
       "Name: experience, dtype: float64"
      ]
     },
     "execution_count": 213,
     "metadata": {},
     "output_type": "execute_result"
    }
   ],
   "source": [
    "# =============================================================================\n",
    "# 1.(Dataset_13_train.csv를 활용하여) 경력과 최근 이직시 공백기간의 상관관계를 보고자\n",
    "# 한다. 남여별 피어슨 상관계수를 각각 산출하고 더 높은 상관계수를 기술하시오.\n",
    "# - 상관계수는 반올림하여 소수점 둘째 자리까지 기술하시오. (답안 예시) 0.12\n",
    "# =============================================================================\n",
    "q1 = df13_train[['gender', 'experience', 'last_new_job']].dropna()\n",
    "\n",
    "M = q1[q1['gender']=='Male'].corr()['experience'].drop('experience')\n",
    "F = q1[q1['gender']=='Female'].corr()['experience'].drop('experience')\n",
    "\n",
    "round(F,2)"
   ]
  },
  {
   "cell_type": "code",
   "execution_count": 244,
   "id": "6fd721c0",
   "metadata": {},
   "outputs": [
    {
     "name": "stdout",
     "output_type": "stream",
     "text": [
      "0.0\n"
     ]
    },
    {
     "data": {
      "text/plain": [
       "(40.821089185161426,\n",
       " 1.668230494942031e-10,\n",
       " 1,\n",
       " array([[217.30663616,  73.69336384],\n",
       "        [761.69336384, 258.30663616]]))"
      ]
     },
     "execution_count": 244,
     "metadata": {},
     "output_type": "execute_result"
    }
   ],
   "source": [
    "# =============================================================================\n",
    "# 2. X 백분위수로 계산 안함. 답지랑 답이 다른데 과정은 같음 뭐지\n",
    "# =============================================================================\n",
    "# relevent_experience target \n",
    "# 카이제곱\n",
    "base=q2['city_development_index'].quantile(0.85)\n",
    "q2 = df13_train[(df13_train['major_discipline']=='STEM')|(df13_train['city_development_index']>base)]\n",
    "q2['target'] = q2['target'].astype(str)\n",
    "\n",
    "tab = pd.crosstab(index=q2['relevent_experience'], columns=q2['target'])\n",
    "\n",
    "from scipy.stats import chi2_contingency\n",
    "\n",
    "out = chi2_contingency(tab)\n",
    "print(round(out[1],2))\n",
    "out"
   ]
  },
  {
   "cell_type": "code",
   "execution_count": 260,
   "id": "7a92e91b",
   "metadata": {},
   "outputs": [
    {
     "data": {
      "text/plain": [
       "0.67"
      ]
     },
     "execution_count": 260,
     "metadata": {},
     "output_type": "execute_result"
    }
   ],
   "source": [
    "# =============================================================================\n",
    "# 3. O\n",
    "# =============================================================================\n",
    "df13_train.dtypes != 'object'\n",
    "df13_train = df13_train.drop(['gender', 'education_level', 'major_discipline'], axis=1)\n",
    "df13_test = df13_test.drop(['gender', 'education_level', 'major_discipline'], axis=1)\n",
    "\n",
    "\n",
    "from sklearn.tree import DecisionTreeClassifier\n",
    "\n",
    "dtc = DecisionTreeClassifier(random_state=123).fit(df13_train.iloc[:, :-1], df13_train.iloc[:, -1])\n",
    "res3 = dtc.score(df13_test.iloc[:, :-1], df13_test.iloc[:, -1])\n",
    "round(res3, 2)"
   ]
  },
  {
   "cell_type": "markdown",
   "id": "2072d66e",
   "metadata": {},
   "source": [
    "## Set14"
   ]
  },
  {
   "cell_type": "code",
   "execution_count": 261,
   "id": "d90ed7de",
   "metadata": {},
   "outputs": [
    {
     "data": {
      "text/html": [
       "<div>\n",
       "<style scoped>\n",
       "    .dataframe tbody tr th:only-of-type {\n",
       "        vertical-align: middle;\n",
       "    }\n",
       "\n",
       "    .dataframe tbody tr th {\n",
       "        vertical-align: top;\n",
       "    }\n",
       "\n",
       "    .dataframe thead th {\n",
       "        text-align: right;\n",
       "    }\n",
       "</style>\n",
       "<table border=\"1\" class=\"dataframe\">\n",
       "  <thead>\n",
       "    <tr style=\"text-align: right;\">\n",
       "      <th></th>\n",
       "      <th>id</th>\n",
       "      <th>published</th>\n",
       "      <th>subject</th>\n",
       "      <th>level</th>\n",
       "      <th>price</th>\n",
       "      <th>subscribers</th>\n",
       "      <th>reviews</th>\n",
       "      <th>lectures</th>\n",
       "      <th>duration</th>\n",
       "    </tr>\n",
       "  </thead>\n",
       "  <tbody>\n",
       "    <tr>\n",
       "      <th>0</th>\n",
       "      <td>1</td>\n",
       "      <td>2015-07-10</td>\n",
       "      <td>Business Finance</td>\n",
       "      <td>Beginner Level</td>\n",
       "      <td>1.7</td>\n",
       "      <td>56</td>\n",
       "      <td>8</td>\n",
       "      <td>18</td>\n",
       "      <td>2.000000</td>\n",
       "    </tr>\n",
       "    <tr>\n",
       "      <th>1</th>\n",
       "      <td>2</td>\n",
       "      <td>2016-10-25</td>\n",
       "      <td>Business Finance</td>\n",
       "      <td>All Levels</td>\n",
       "      <td>17.4</td>\n",
       "      <td>336</td>\n",
       "      <td>6</td>\n",
       "      <td>13</td>\n",
       "      <td>0.683333</td>\n",
       "    </tr>\n",
       "    <tr>\n",
       "      <th>2</th>\n",
       "      <td>3</td>\n",
       "      <td>2015-06-16</td>\n",
       "      <td>Business Finance</td>\n",
       "      <td>All Levels</td>\n",
       "      <td>8.3</td>\n",
       "      <td>871</td>\n",
       "      <td>79</td>\n",
       "      <td>59</td>\n",
       "      <td>2.000000</td>\n",
       "    </tr>\n",
       "    <tr>\n",
       "      <th>3</th>\n",
       "      <td>4</td>\n",
       "      <td>2016-07-28</td>\n",
       "      <td>Business Finance</td>\n",
       "      <td>All Levels</td>\n",
       "      <td>7.0</td>\n",
       "      <td>1095</td>\n",
       "      <td>17</td>\n",
       "      <td>35</td>\n",
       "      <td>3.000000</td>\n",
       "    </tr>\n",
       "    <tr>\n",
       "      <th>4</th>\n",
       "      <td>5</td>\n",
       "      <td>2016-05-18</td>\n",
       "      <td>Business Finance</td>\n",
       "      <td>Expert Level</td>\n",
       "      <td>8.3</td>\n",
       "      <td>913</td>\n",
       "      <td>117</td>\n",
       "      <td>48</td>\n",
       "      <td>2.000000</td>\n",
       "    </tr>\n",
       "  </tbody>\n",
       "</table>\n",
       "</div>"
      ],
      "text/plain": [
       "   id   published           subject           level  price  subscribers  \\\n",
       "0   1  2015-07-10  Business Finance  Beginner Level    1.7           56   \n",
       "1   2  2016-10-25  Business Finance      All Levels   17.4          336   \n",
       "2   3  2015-06-16  Business Finance      All Levels    8.3          871   \n",
       "3   4  2016-07-28  Business Finance      All Levels    7.0         1095   \n",
       "4   5  2016-05-18  Business Finance    Expert Level    8.3          913   \n",
       "\n",
       "   reviews  lectures  duration  \n",
       "0        8        18  2.000000  \n",
       "1        6        13  0.683333  \n",
       "2       79        59  2.000000  \n",
       "3       17        35  3.000000  \n",
       "4      117        48  2.000000  "
      ]
     },
     "execution_count": 261,
     "metadata": {},
     "output_type": "execute_result"
    }
   ],
   "source": [
    "df14 = pd.read_csv(path+'DataSet_14.csv')\n",
    "df14.head()"
   ]
  },
  {
   "cell_type": "code",
   "execution_count": 273,
   "id": "2c9df7d4",
   "metadata": {},
   "outputs": [
    {
     "data": {
      "text/plain": [
       "59"
      ]
     },
     "execution_count": 273,
     "metadata": {},
     "output_type": "execute_result"
    }
   ],
   "source": [
    "# =============================================================================\n",
    "# 1. O\n",
    "# =============================================================================\n",
    "q1 = df14.copy()\n",
    "q1['income'] = q1['price'] * df14['subscribers']\n",
    "q1['rate'] = (q1['reviews'] / df14['subscribers'])\n",
    "len(q1[(q1['income']>=10000)&(q1['rate']>=0.1)])"
   ]
  },
  {
   "cell_type": "code",
   "execution_count": 284,
   "id": "b706ff0f",
   "metadata": {},
   "outputs": [
    {
     "data": {
      "text/plain": [
       "price    0.03\n",
       "Name: subscribers, dtype: float64"
      ]
     },
     "execution_count": 284,
     "metadata": {},
     "output_type": "execute_result"
    }
   ],
   "source": [
    "# =============================================================================\n",
    "# 2. O\n",
    "# =============================================================================\n",
    "q2 = df14.copy()\n",
    "q2['year'] = [i.split('-')[0] for i in q2['published']]\n",
    "\n",
    "res2 = q2[(q2['year']=='2016')&(q2['subject']=='Web Development')][['price', 'subscribers']].corr()\n",
    "round(res2['subscribers'].drop('subscribers'),2)"
   ]
  },
  {
   "cell_type": "code",
   "execution_count": 304,
   "id": "2c2a2c58",
   "metadata": {},
   "outputs": [
    {
     "data": {
      "text/plain": [
       "18.5"
      ]
     },
     "execution_count": 304,
     "metadata": {},
     "output_type": "execute_result"
    }
   ],
   "source": [
    "# =============================================================================\n",
    "# 3. X\n",
    "#\n",
    "# (참고)\n",
    "# from statsmodels.formula.api import ols\n",
    "# from statsmodels.stats.anova import anova_lm\n",
    "# =============================================================================\n",
    "q2['rate'] = (q2['reviews'] / q2['subscribers'])\n",
    "\n",
    "from statsmodels.formula.api import ols\n",
    "\n",
    "form= 'rate ~ C(year)' # 일원배치\n",
    "out = ols(form, q2).fit()\n",
    "round(out.fvalue,1)"
   ]
  },
  {
   "cell_type": "markdown",
   "id": "ec5e47ea",
   "metadata": {},
   "source": [
    "## Set15"
   ]
  },
  {
   "cell_type": "code",
   "execution_count": 307,
   "id": "29902ccd",
   "metadata": {},
   "outputs": [
    {
     "data": {
      "text/html": [
       "<div>\n",
       "<style scoped>\n",
       "    .dataframe tbody tr th:only-of-type {\n",
       "        vertical-align: middle;\n",
       "    }\n",
       "\n",
       "    .dataframe tbody tr th {\n",
       "        vertical-align: top;\n",
       "    }\n",
       "\n",
       "    .dataframe thead th {\n",
       "        text-align: right;\n",
       "    }\n",
       "</style>\n",
       "<table border=\"1\" class=\"dataframe\">\n",
       "  <thead>\n",
       "    <tr style=\"text-align: right;\">\n",
       "      <th></th>\n",
       "      <th>Member_number</th>\n",
       "      <th>Date</th>\n",
       "      <th>itemDescription</th>\n",
       "    </tr>\n",
       "  </thead>\n",
       "  <tbody>\n",
       "    <tr>\n",
       "      <th>0</th>\n",
       "      <td>1220</td>\n",
       "      <td>2015-01-01</td>\n",
       "      <td>canned beer</td>\n",
       "    </tr>\n",
       "    <tr>\n",
       "      <th>1</th>\n",
       "      <td>1220</td>\n",
       "      <td>2015-01-01</td>\n",
       "      <td>margarine</td>\n",
       "    </tr>\n",
       "    <tr>\n",
       "      <th>2</th>\n",
       "      <td>1220</td>\n",
       "      <td>2015-01-01</td>\n",
       "      <td>chocolate</td>\n",
       "    </tr>\n",
       "    <tr>\n",
       "      <th>3</th>\n",
       "      <td>1235</td>\n",
       "      <td>2015-01-01</td>\n",
       "      <td>sausage</td>\n",
       "    </tr>\n",
       "    <tr>\n",
       "      <th>4</th>\n",
       "      <td>1235</td>\n",
       "      <td>2015-01-01</td>\n",
       "      <td>sausage</td>\n",
       "    </tr>\n",
       "  </tbody>\n",
       "</table>\n",
       "</div>"
      ],
      "text/plain": [
       "   Member_number        Date itemDescription\n",
       "0           1220  2015-01-01     canned beer\n",
       "1           1220  2015-01-01       margarine\n",
       "2           1220  2015-01-01       chocolate\n",
       "3           1235  2015-01-01         sausage\n",
       "4           1235  2015-01-01         sausage"
      ]
     },
     "execution_count": 307,
     "metadata": {},
     "output_type": "execute_result"
    }
   ],
   "source": [
    "df_pos = pd.read_csv(path+'Dataset_05_Mart_POS.csv')\n",
    "df_pos.head()"
   ]
  },
  {
   "cell_type": "code",
   "execution_count": 306,
   "id": "7fb56454",
   "metadata": {},
   "outputs": [
    {
     "data": {
      "text/html": [
       "<div>\n",
       "<style scoped>\n",
       "    .dataframe tbody tr th:only-of-type {\n",
       "        vertical-align: middle;\n",
       "    }\n",
       "\n",
       "    .dataframe tbody tr th {\n",
       "        vertical-align: top;\n",
       "    }\n",
       "\n",
       "    .dataframe thead th {\n",
       "        text-align: right;\n",
       "    }\n",
       "</style>\n",
       "<table border=\"1\" class=\"dataframe\">\n",
       "  <thead>\n",
       "    <tr style=\"text-align: right;\">\n",
       "      <th></th>\n",
       "      <th>prod_id</th>\n",
       "      <th>prod_nm</th>\n",
       "      <th>alcohol</th>\n",
       "      <th>frozen</th>\n",
       "    </tr>\n",
       "  </thead>\n",
       "  <tbody>\n",
       "    <tr>\n",
       "      <th>0</th>\n",
       "      <td>1</td>\n",
       "      <td>tropical fruit</td>\n",
       "      <td>0</td>\n",
       "      <td>0</td>\n",
       "    </tr>\n",
       "    <tr>\n",
       "      <th>1</th>\n",
       "      <td>2</td>\n",
       "      <td>whole milk</td>\n",
       "      <td>0</td>\n",
       "      <td>0</td>\n",
       "    </tr>\n",
       "    <tr>\n",
       "      <th>2</th>\n",
       "      <td>3</td>\n",
       "      <td>pip fruit</td>\n",
       "      <td>0</td>\n",
       "      <td>0</td>\n",
       "    </tr>\n",
       "    <tr>\n",
       "      <th>3</th>\n",
       "      <td>4</td>\n",
       "      <td>other vegetables</td>\n",
       "      <td>0</td>\n",
       "      <td>0</td>\n",
       "    </tr>\n",
       "    <tr>\n",
       "      <th>4</th>\n",
       "      <td>5</td>\n",
       "      <td>rolls/buns</td>\n",
       "      <td>0</td>\n",
       "      <td>0</td>\n",
       "    </tr>\n",
       "  </tbody>\n",
       "</table>\n",
       "</div>"
      ],
      "text/plain": [
       "   prod_id           prod_nm  alcohol  frozen\n",
       "0        1    tropical fruit        0       0\n",
       "1        2        whole milk        0       0\n",
       "2        3         pip fruit        0       0\n",
       "3        4  other vegetables        0       0\n",
       "4        5        rolls/buns        0       0"
      ]
     },
     "execution_count": 306,
     "metadata": {},
     "output_type": "execute_result"
    }
   ],
   "source": [
    "df_item = pd.read_csv(path+'Dataset_05_item_list.csv')\n",
    "df_item.head()"
   ]
  },
  {
   "cell_type": "code",
   "execution_count": 313,
   "id": "491a5969",
   "metadata": {},
   "outputs": [
    {
     "data": {
      "text/plain": [
       "7"
      ]
     },
     "execution_count": 313,
     "metadata": {},
     "output_type": "execute_result"
    }
   ],
   "source": [
    "# =============================================================================\n",
    "# 1.(Dataset_05_Mart_POS.csv를 활용하여) 가장 많은 제품이 팔린 날짜에 가장 많이 팔린\n",
    "# 제품의 판매 개수는? (답안 예시) 1\n",
    "# =============================================================================\n",
    "date = df_pos['Date'].value_counts().idxmax()\n",
    "q1 = df_pos[df_pos['Date']==date][['itemDescription']]\n",
    "q1.value_counts().max()"
   ]
  },
  {
   "cell_type": "code",
   "execution_count": 380,
   "id": "e78d19b4",
   "metadata": {},
   "outputs": [
    {
     "data": {
      "text/plain": [
       "0.59"
      ]
     },
     "execution_count": 380,
     "metadata": {},
     "output_type": "execute_result"
    }
   ],
   "source": [
    "# =============================================================================\n",
    "# 2. X\n",
    "# =============================================================================\n",
    "# 가설: 금, 토가 주류 구매가 많음\n",
    "\n",
    "pos2['month']=pd.to_datetime(pos2.Date).dt.month\n",
    "pos2['day']=pd.to_datetime(pos2.Date).dt.day_name(locale='ko_kr')\n",
    "pos2['week']=np.where(pos2['day'].isin(['금요일','토요일']), 1 , 0)\n",
    "\n",
    "#      |  tm_wday\n",
    "#      |      day of week, range [0, 6], Monday is 0\n",
    "\n",
    "\n",
    "\n",
    "df_pos['day'] = [time.strptime(val, '%Y-%m-%d')[6] for val in df_pos['Date']]\n",
    "df_pos['day'] = np.where(df_pos['day']==4, \"1\", \n",
    "                    (np.where(df_pos['day']==5,1,\"0\")))\n",
    "\n",
    "q2=pd.merge(df_pos, df_item,\n",
    "                left_on='itemDescription',\n",
    "                right_on='prod_nm')\n",
    "q2['month'] = pd.to_datetime(q2.Date).dt.month\n",
    "\n",
    "q2 = q2[q2['month'] <= 3]\n",
    "\n",
    "tab = pd.crosstab(index=q2.alcohol, columns=q2.day).dropna()\n",
    "from scipy.stats import ttest_ind\n",
    "\n",
    "out = ttest_ind(tab['1'], tab['0'])\n",
    "# tab.columns\n",
    "round(out[1],2)"
   ]
  }
 ],
 "metadata": {
  "kernelspec": {
   "display_name": "Python 3 (ipykernel)",
   "language": "python",
   "name": "python3"
  },
  "language_info": {
   "codemirror_mode": {
    "name": "ipython",
    "version": 3
   },
   "file_extension": ".py",
   "mimetype": "text/x-python",
   "name": "python",
   "nbconvert_exporter": "python",
   "pygments_lexer": "ipython3",
   "version": "3.9.7"
  }
 },
 "nbformat": 4,
 "nbformat_minor": 5
}
