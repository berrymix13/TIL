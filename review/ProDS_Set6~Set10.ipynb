{
 "cells": [
  {
   "cell_type": "code",
   "execution_count": 1,
   "id": "694d9628",
   "metadata": {},
   "outputs": [],
   "source": [
    "import warnings\n",
    "import pandas as pd\n",
    "import numpy as np\n",
    "import scipy.stats as st\n",
    "from statsmodels.formula.api import ols\n",
    "warnings.filterwarnings('ignore')"
   ]
  },
  {
   "cell_type": "markdown",
   "id": "ab2b9671",
   "metadata": {},
   "source": [
    "## Set6"
   ]
  },
  {
   "cell_type": "code",
   "execution_count": 2,
   "id": "e4b73163",
   "metadata": {},
   "outputs": [
    {
     "data": {
      "text/html": [
       "<div>\n",
       "<style scoped>\n",
       "    .dataframe tbody tr th:only-of-type {\n",
       "        vertical-align: middle;\n",
       "    }\n",
       "\n",
       "    .dataframe tbody tr th {\n",
       "        vertical-align: top;\n",
       "    }\n",
       "\n",
       "    .dataframe thead th {\n",
       "        text-align: right;\n",
       "    }\n",
       "</style>\n",
       "<table border=\"1\" class=\"dataframe\">\n",
       "  <thead>\n",
       "    <tr style=\"text-align: right;\">\n",
       "      <th></th>\n",
       "      <th>id</th>\n",
       "      <th>date</th>\n",
       "      <th>price</th>\n",
       "      <th>bedrooms</th>\n",
       "      <th>bathrooms</th>\n",
       "      <th>sqft_living</th>\n",
       "      <th>sqft_lot</th>\n",
       "      <th>floors</th>\n",
       "      <th>waterfront</th>\n",
       "      <th>view</th>\n",
       "      <th>condition</th>\n",
       "      <th>grade</th>\n",
       "      <th>sqft_above</th>\n",
       "      <th>sqft_basement</th>\n",
       "      <th>yr_built</th>\n",
       "      <th>yr_renovated</th>\n",
       "      <th>zipcode</th>\n",
       "      <th>sqft_living15</th>\n",
       "      <th>sqft_lot15</th>\n",
       "    </tr>\n",
       "  </thead>\n",
       "  <tbody>\n",
       "    <tr>\n",
       "      <th>0</th>\n",
       "      <td>2597000006</td>\n",
       "      <td>20150309T000000</td>\n",
       "      <td>347500.0</td>\n",
       "      <td>3</td>\n",
       "      <td>1.50</td>\n",
       "      <td>1180</td>\n",
       "      <td>8353</td>\n",
       "      <td>1.0</td>\n",
       "      <td>0</td>\n",
       "      <td>0</td>\n",
       "      <td>3</td>\n",
       "      <td>7</td>\n",
       "      <td>1180</td>\n",
       "      <td>0</td>\n",
       "      <td>1960</td>\n",
       "      <td>0</td>\n",
       "      <td>98155</td>\n",
       "      <td>1710</td>\n",
       "      <td>8748</td>\n",
       "    </tr>\n",
       "    <tr>\n",
       "      <th>1</th>\n",
       "      <td>8813400345</td>\n",
       "      <td>20150414T000000</td>\n",
       "      <td>575000.0</td>\n",
       "      <td>2</td>\n",
       "      <td>1.00</td>\n",
       "      <td>980</td>\n",
       "      <td>3663</td>\n",
       "      <td>1.0</td>\n",
       "      <td>0</td>\n",
       "      <td>0</td>\n",
       "      <td>5</td>\n",
       "      <td>7</td>\n",
       "      <td>980</td>\n",
       "      <td>0</td>\n",
       "      <td>1909</td>\n",
       "      <td>0</td>\n",
       "      <td>98105</td>\n",
       "      <td>1620</td>\n",
       "      <td>3706</td>\n",
       "    </tr>\n",
       "    <tr>\n",
       "      <th>2</th>\n",
       "      <td>226059106</td>\n",
       "      <td>20150102T000000</td>\n",
       "      <td>489500.0</td>\n",
       "      <td>3</td>\n",
       "      <td>1.75</td>\n",
       "      <td>2090</td>\n",
       "      <td>65558</td>\n",
       "      <td>1.0</td>\n",
       "      <td>0</td>\n",
       "      <td>0</td>\n",
       "      <td>3</td>\n",
       "      <td>8</td>\n",
       "      <td>1330</td>\n",
       "      <td>760</td>\n",
       "      <td>1977</td>\n",
       "      <td>0</td>\n",
       "      <td>98072</td>\n",
       "      <td>2450</td>\n",
       "      <td>47178</td>\n",
       "    </tr>\n",
       "    <tr>\n",
       "      <th>3</th>\n",
       "      <td>8645500270</td>\n",
       "      <td>20141028T000000</td>\n",
       "      <td>246000.0</td>\n",
       "      <td>4</td>\n",
       "      <td>1.75</td>\n",
       "      <td>1720</td>\n",
       "      <td>7455</td>\n",
       "      <td>1.0</td>\n",
       "      <td>0</td>\n",
       "      <td>0</td>\n",
       "      <td>4</td>\n",
       "      <td>7</td>\n",
       "      <td>1020</td>\n",
       "      <td>700</td>\n",
       "      <td>1963</td>\n",
       "      <td>0</td>\n",
       "      <td>98058</td>\n",
       "      <td>1720</td>\n",
       "      <td>7700</td>\n",
       "    </tr>\n",
       "    <tr>\n",
       "      <th>4</th>\n",
       "      <td>7010700550</td>\n",
       "      <td>20141114T000000</td>\n",
       "      <td>595000.0</td>\n",
       "      <td>3</td>\n",
       "      <td>2.50</td>\n",
       "      <td>2030</td>\n",
       "      <td>5100</td>\n",
       "      <td>2.0</td>\n",
       "      <td>0</td>\n",
       "      <td>0</td>\n",
       "      <td>3</td>\n",
       "      <td>7</td>\n",
       "      <td>2030</td>\n",
       "      <td>0</td>\n",
       "      <td>2008</td>\n",
       "      <td>0</td>\n",
       "      <td>98199</td>\n",
       "      <td>1790</td>\n",
       "      <td>4380</td>\n",
       "    </tr>\n",
       "  </tbody>\n",
       "</table>\n",
       "</div>"
      ],
      "text/plain": [
       "           id             date     price  bedrooms  bathrooms  sqft_living  \\\n",
       "0  2597000006  20150309T000000  347500.0         3       1.50         1180   \n",
       "1  8813400345  20150414T000000  575000.0         2       1.00          980   \n",
       "2   226059106  20150102T000000  489500.0         3       1.75         2090   \n",
       "3  8645500270  20141028T000000  246000.0         4       1.75         1720   \n",
       "4  7010700550  20141114T000000  595000.0         3       2.50         2030   \n",
       "\n",
       "   sqft_lot  floors  waterfront  view  condition  grade  sqft_above  \\\n",
       "0      8353     1.0           0     0          3      7        1180   \n",
       "1      3663     1.0           0     0          5      7         980   \n",
       "2     65558     1.0           0     0          3      8        1330   \n",
       "3      7455     1.0           0     0          4      7        1020   \n",
       "4      5100     2.0           0     0          3      7        2030   \n",
       "\n",
       "   sqft_basement  yr_built  yr_renovated  zipcode  sqft_living15  sqft_lot15  \n",
       "0              0      1960             0    98155           1710        8748  \n",
       "1              0      1909             0    98105           1620        3706  \n",
       "2            760      1977             0    98072           2450       47178  \n",
       "3            700      1963             0    98058           1720        7700  \n",
       "4              0      2008             0    98199           1790        4380  "
      ]
     },
     "execution_count": 2,
     "metadata": {},
     "output_type": "execute_result"
    }
   ],
   "source": [
    "df6 = pd.read_csv(path+'DataSet_06.csv')\n",
    "df6.head()"
   ]
  },
  {
   "cell_type": "code",
   "execution_count": 8,
   "id": "e0f91796",
   "metadata": {},
   "outputs": [
    {
     "name": "stdout",
     "output_type": "stream",
     "text": [
      "1167272\n"
     ]
    }
   ],
   "source": [
    "# =============================================================================\n",
    "# 1. O\n",
    "# =============================================================================\n",
    "\n",
    "q1 = df6[['price', 'waterfront']]\n",
    "\n",
    "wf_y = q1[q1['waterfront']==1]['price'].mean()\n",
    "wf_n = q1[q1['waterfront']==0]['price'].mean()\n",
    "res = wf_y-wf_n\n",
    "print(f'{np.floor(res):.0f}')"
   ]
  },
  {
   "cell_type": "code",
   "execution_count": 27,
   "id": "ce65d39b",
   "metadata": {},
   "outputs": [
    {
     "name": "stdout",
     "output_type": "stream",
     "text": [
      "sqft_living, yr_built\n"
     ]
    }
   ],
   "source": [
    "# =============================================================================\n",
    "# 2. O\n",
    "# =============================================================================\n",
    "q2 = df6[['price', 'bedrooms', 'bathrooms', 'sqft_living', 'sqft_lot', 'floors', 'yr_built']]\n",
    "mx = abs(q2.corr()[['price']].drop('price')).idxmax()\n",
    "mn = abs(q2.corr()[['price']].drop('price')).idxmin()\n",
    "print(f'{mx[0]}, {mn[0]}')"
   ]
  },
  {
   "cell_type": "code",
   "execution_count": 37,
   "id": "948cc35a",
   "metadata": {},
   "outputs": [
    {
     "data": {
      "text/plain": [
       "Index(['price', 'bedrooms', 'bathrooms', 'sqft_living', 'sqft_lot', 'floors',\n",
       "       'waterfront', 'view', 'condition', 'grade', 'sqft_above',\n",
       "       'sqft_basement', 'yr_built', 'yr_renovated', 'sqft_living15',\n",
       "       'sqft_lot15'],\n",
       "      dtype='object')"
      ]
     },
     "execution_count": 37,
     "metadata": {},
     "output_type": "execute_result"
    }
   ],
   "source": [
    "q3.columns"
   ]
  },
  {
   "cell_type": "code",
   "execution_count": 56,
   "id": "4067c52e",
   "metadata": {},
   "outputs": [
    {
     "name": "stdout",
     "output_type": "stream",
     "text": [
      "13, 2\n"
     ]
    }
   ],
   "source": [
    "# =============================================================================\n",
    "# 3. ☆\n",
    "# =============================================================================\n",
    "\n",
    "q3 = df6.drop(['id', 'date', 'zipcode'], axis=1).copy()\n",
    "# y = q3[['price']]\n",
    "# X = q3.drop(['price'], axis=1)\n",
    "\n",
    "from statsmodels.formula.api import ols\n",
    "\n",
    "var = ['bedrooms', 'bathrooms', 'sqft_living', 'sqft_lot', 'floors',\n",
    "       'waterfront', 'view', 'condition', 'grade', 'sqft_above',\n",
    "       'sqft_basement', 'yr_built', 'yr_renovated', 'sqft_living15',\n",
    "       'sqft_lot15']\n",
    "\n",
    "form = 'price~' + '+'.join(var)\n",
    "ols = ols(form, q3).fit()\n",
    "res1 = ols.params[ols.pvalues < 0.05].drop('Intercept')\n",
    "res2 = len(res1[res1 < 0])\n",
    "\n",
    "print(f'{len(res1)}, {res2}')"
   ]
  },
  {
   "cell_type": "markdown",
   "id": "c005446d",
   "metadata": {},
   "source": [
    "## Set7"
   ]
  },
  {
   "cell_type": "code",
   "execution_count": 57,
   "id": "a4136ffd",
   "metadata": {},
   "outputs": [
    {
     "data": {
      "text/html": [
       "<div>\n",
       "<style scoped>\n",
       "    .dataframe tbody tr th:only-of-type {\n",
       "        vertical-align: middle;\n",
       "    }\n",
       "\n",
       "    .dataframe tbody tr th {\n",
       "        vertical-align: top;\n",
       "    }\n",
       "\n",
       "    .dataframe thead th {\n",
       "        text-align: right;\n",
       "    }\n",
       "</style>\n",
       "<table border=\"1\" class=\"dataframe\">\n",
       "  <thead>\n",
       "    <tr style=\"text-align: right;\">\n",
       "      <th></th>\n",
       "      <th>Serial_No</th>\n",
       "      <th>GRE</th>\n",
       "      <th>TOEFL</th>\n",
       "      <th>University_Rating</th>\n",
       "      <th>SOP</th>\n",
       "      <th>LOR</th>\n",
       "      <th>CGPA</th>\n",
       "      <th>Research</th>\n",
       "      <th>Chance_of_Admit</th>\n",
       "    </tr>\n",
       "  </thead>\n",
       "  <tbody>\n",
       "    <tr>\n",
       "      <th>0</th>\n",
       "      <td>1</td>\n",
       "      <td>337</td>\n",
       "      <td>118</td>\n",
       "      <td>4</td>\n",
       "      <td>4.5</td>\n",
       "      <td>4.5</td>\n",
       "      <td>9.65</td>\n",
       "      <td>1</td>\n",
       "      <td>0.92</td>\n",
       "    </tr>\n",
       "    <tr>\n",
       "      <th>1</th>\n",
       "      <td>2</td>\n",
       "      <td>324</td>\n",
       "      <td>107</td>\n",
       "      <td>4</td>\n",
       "      <td>4.0</td>\n",
       "      <td>4.5</td>\n",
       "      <td>8.87</td>\n",
       "      <td>1</td>\n",
       "      <td>0.76</td>\n",
       "    </tr>\n",
       "    <tr>\n",
       "      <th>2</th>\n",
       "      <td>3</td>\n",
       "      <td>316</td>\n",
       "      <td>104</td>\n",
       "      <td>3</td>\n",
       "      <td>3.0</td>\n",
       "      <td>3.5</td>\n",
       "      <td>8.00</td>\n",
       "      <td>1</td>\n",
       "      <td>0.72</td>\n",
       "    </tr>\n",
       "    <tr>\n",
       "      <th>3</th>\n",
       "      <td>4</td>\n",
       "      <td>322</td>\n",
       "      <td>110</td>\n",
       "      <td>3</td>\n",
       "      <td>3.5</td>\n",
       "      <td>2.5</td>\n",
       "      <td>8.67</td>\n",
       "      <td>1</td>\n",
       "      <td>0.80</td>\n",
       "    </tr>\n",
       "    <tr>\n",
       "      <th>4</th>\n",
       "      <td>5</td>\n",
       "      <td>314</td>\n",
       "      <td>103</td>\n",
       "      <td>2</td>\n",
       "      <td>2.0</td>\n",
       "      <td>3.0</td>\n",
       "      <td>8.21</td>\n",
       "      <td>0</td>\n",
       "      <td>0.65</td>\n",
       "    </tr>\n",
       "  </tbody>\n",
       "</table>\n",
       "</div>"
      ],
      "text/plain": [
       "   Serial_No  GRE  TOEFL  University_Rating  SOP  LOR  CGPA  Research  \\\n",
       "0          1  337    118                  4  4.5  4.5  9.65         1   \n",
       "1          2  324    107                  4  4.0  4.5  8.87         1   \n",
       "2          3  316    104                  3  3.0  3.5  8.00         1   \n",
       "3          4  322    110                  3  3.5  2.5  8.67         1   \n",
       "4          5  314    103                  2  2.0  3.0  8.21         0   \n",
       "\n",
       "   Chance_of_Admit  \n",
       "0             0.92  \n",
       "1             0.76  \n",
       "2             0.72  \n",
       "3             0.80  \n",
       "4             0.65  "
      ]
     },
     "execution_count": 57,
     "metadata": {},
     "output_type": "execute_result"
    }
   ],
   "source": [
    "df7 = pd.read_csv(path+'DataSet_07.csv')\n",
    "df7.head()"
   ]
  },
  {
   "cell_type": "code",
   "execution_count": 66,
   "id": "8495ed8c",
   "metadata": {},
   "outputs": [
    {
     "name": "stdout",
     "output_type": "stream",
     "text": [
      "0.873\n"
     ]
    }
   ],
   "source": [
    "# =============================================================================\n",
    "# 1. O\n",
    "# =============================================================================\n",
    "q1 = df7[['GRE', 'TOEFL', 'CGPA','Chance_of_Admit']]\n",
    "res1 = q1.corr()[['Chance_of_Admit']].drop('Chance_of_Admit').max()[0]\n",
    "print(round(res1, 3))"
   ]
  },
  {
   "cell_type": "code",
   "execution_count": 86,
   "id": "2edc188f",
   "metadata": {},
   "outputs": [
    {
     "name": "stdout",
     "output_type": "stream",
     "text": [
      "19.44\n"
     ]
    }
   ],
   "source": [
    "# =============================================================================\n",
    "# 2. O\n",
    "# =============================================================================\n",
    "q2 = df7[['GRE', 'CGPA']]\n",
    "mean = q2['GRE'].mean()\n",
    "\n",
    "# 미만 : 0, 이상 : 1\n",
    "q2['GRE'] = np.where(q2[['GRE']]<mean, 0, 1)\n",
    "\n",
    "from scipy.stats import ttest_ind\n",
    "\n",
    "out = ttest_ind(q2[q2['GRE']==1]['CGPA'], q2[q2['GRE']==0]['CGPA'])\n",
    "print(round(out[0], 2))"
   ]
  },
  {
   "cell_type": "code",
   "execution_count": 109,
   "id": "9ac65db6",
   "metadata": {},
   "outputs": [
    {
     "name": "stdout",
     "output_type": "stream",
     "text": [
      "CGPA, 1.98\n"
     ]
    }
   ],
   "source": [
    "# =============================================================================\n",
    "# 3. △\n",
    "# =============================================================================\n",
    "seed = 123\n",
    "q3 = df7.drop(['Serial_No'], axis=1)\n",
    "\n",
    "# 합격 : 1, 불합격:0\n",
    "q3['Chance_of_Admit'] = np.where(q3['Chance_of_Admit']>0.5, 1, 0)\n",
    "y = q3[['Chance_of_Admit']]\n",
    "X = q3.drop(['Chance_of_Admit'], axis=1)\n",
    "\n",
    "from sklearn.linear_model import LogisticRegression\n",
    "\n",
    "# help(LogisticRegression)\n",
    "lr = LogisticRegression(solver='liblinear', random_state=seed).fit(X, y)\n",
    "res1 = pd.Series(abs(lr.coef_[0]), index=X.columns).idxmax()\n",
    "res2 = pd.Series(abs(lr.coef_[0]), index=X.columns).max()\n",
    "print(f'{res1}, {round(res2, 2)}')"
   ]
  },
  {
   "cell_type": "markdown",
   "id": "00c6a92b",
   "metadata": {},
   "source": [
    "## Set8"
   ]
  },
  {
   "cell_type": "code",
   "execution_count": 110,
   "id": "c54e6ea6",
   "metadata": {},
   "outputs": [
    {
     "data": {
      "text/html": [
       "<div>\n",
       "<style scoped>\n",
       "    .dataframe tbody tr th:only-of-type {\n",
       "        vertical-align: middle;\n",
       "    }\n",
       "\n",
       "    .dataframe tbody tr th {\n",
       "        vertical-align: top;\n",
       "    }\n",
       "\n",
       "    .dataframe thead th {\n",
       "        text-align: right;\n",
       "    }\n",
       "</style>\n",
       "<table border=\"1\" class=\"dataframe\">\n",
       "  <thead>\n",
       "    <tr style=\"text-align: right;\">\n",
       "      <th></th>\n",
       "      <th>RandD_Spend</th>\n",
       "      <th>Administration</th>\n",
       "      <th>Marketing_Spend</th>\n",
       "      <th>State</th>\n",
       "      <th>Profit</th>\n",
       "    </tr>\n",
       "  </thead>\n",
       "  <tbody>\n",
       "    <tr>\n",
       "      <th>0</th>\n",
       "      <td>165349.20</td>\n",
       "      <td>136897.80</td>\n",
       "      <td>471784.10</td>\n",
       "      <td>New York</td>\n",
       "      <td>192261.83</td>\n",
       "    </tr>\n",
       "    <tr>\n",
       "      <th>1</th>\n",
       "      <td>162597.70</td>\n",
       "      <td>151377.59</td>\n",
       "      <td>443898.53</td>\n",
       "      <td>California</td>\n",
       "      <td>191792.06</td>\n",
       "    </tr>\n",
       "    <tr>\n",
       "      <th>2</th>\n",
       "      <td>153441.51</td>\n",
       "      <td>101145.55</td>\n",
       "      <td>407934.54</td>\n",
       "      <td>Florida</td>\n",
       "      <td>191050.39</td>\n",
       "    </tr>\n",
       "    <tr>\n",
       "      <th>3</th>\n",
       "      <td>144372.41</td>\n",
       "      <td>118671.85</td>\n",
       "      <td>383199.62</td>\n",
       "      <td>New York</td>\n",
       "      <td>182901.99</td>\n",
       "    </tr>\n",
       "    <tr>\n",
       "      <th>4</th>\n",
       "      <td>142107.34</td>\n",
       "      <td>91391.77</td>\n",
       "      <td>366168.42</td>\n",
       "      <td>Florida</td>\n",
       "      <td>166187.94</td>\n",
       "    </tr>\n",
       "  </tbody>\n",
       "</table>\n",
       "</div>"
      ],
      "text/plain": [
       "   RandD_Spend  Administration  Marketing_Spend       State     Profit\n",
       "0    165349.20       136897.80        471784.10    New York  192261.83\n",
       "1    162597.70       151377.59        443898.53  California  191792.06\n",
       "2    153441.51       101145.55        407934.54     Florida  191050.39\n",
       "3    144372.41       118671.85        383199.62    New York  182901.99\n",
       "4    142107.34        91391.77        366168.42     Florida  166187.94"
      ]
     },
     "execution_count": 110,
     "metadata": {},
     "output_type": "execute_result"
    }
   ],
   "source": [
    "df8 = pd.read_csv(path+'DataSet_08.csv')\n",
    "df8.head()"
   ]
  },
  {
   "cell_type": "code",
   "execution_count": 170,
   "id": "100e815c",
   "metadata": {},
   "outputs": [
    {
     "name": "stdout",
     "output_type": "stream",
     "text": [
      "[0.34 0.32 0.34]\n"
     ]
    }
   ],
   "source": [
    "# =============================================================================\n",
    "# 1. O\n",
    "# =============================================================================\n",
    "q1 = df8['State']\n",
    "\n",
    "q1 = pd.DataFrame(q1.value_counts().sort_index())\n",
    "q1['State'] = round(q1['State']/q1['State'].sum(), 2)\n",
    "print(q1.values.reshape(-1))"
   ]
  },
  {
   "cell_type": "code",
   "execution_count": 182,
   "id": "c0384e4c",
   "metadata": {},
   "outputs": [
    {
     "name": "stdout",
     "output_type": "stream",
     "text": [
      "1167272\n"
     ]
    }
   ],
   "source": [
    "# =============================================================================\n",
    "# 2. O\n",
    "# =============================================================================\n",
    "q2 = df8.groupby('State')['Profit'].mean()\n",
    "res2 = q2.max()-q2.min()\n",
    "print(f'{np.floor(res):.0f}')"
   ]
  },
  {
   "cell_type": "code",
   "execution_count": 200,
   "id": "5e69de3c",
   "metadata": {},
   "outputs": [
    {
     "name": "stdout",
     "output_type": "stream",
     "text": [
      "State    California\n",
      "MAPE           5.68\n",
      "dtype: object\n"
     ]
    }
   ],
   "source": [
    "# =============================================================================\n",
    "# 3. \n",
    "# =============================================================================\n",
    "var = ['RandD_Spend', 'Administration', 'Marketing_Spend']\n",
    "st_lst = df8['State'].unique()\n",
    "\n",
    "\n",
    "from statsmodels.formula.api import ols\n",
    "\n",
    "lst = []\n",
    "for st in st_lst:\n",
    "    q3 = df8[df8['State']==st]\n",
    "    form = 'Profit~'+ '+'.join(var)\n",
    "\n",
    "    reg = ols(form, df8).fit()\n",
    "    y_hat = reg.predict(q3[var])\n",
    "    mape = sum(abs(q3['Profit']-y_hat)/q3['Profit']) * 100 / len(q3)\n",
    "    lst.append([st, round(mape, 2)])\n",
    "    \n",
    "print(pd.DataFrame(lst, columns=['State','MAPE']).min()"
   ]
  },
  {
   "cell_type": "code",
   "execution_count": 206,
   "id": "5d9d72b9",
   "metadata": {},
   "outputs": [
    {
     "data": {
      "text/plain": [
       "state     Florida\n",
       "mape     5.706713\n",
       "Name: 2, dtype: object"
      ]
     },
     "execution_count": 206,
     "metadata": {},
     "output_type": "execute_result"
    }
   ],
   "source": [
    "state_list=df8.State.unique()\n",
    "\n",
    "from sklearn.linear_model import LinearRegression\n",
    "\n",
    "q3_out=[]\n",
    "for i in state_list:\n",
    "    temp=df8[df8.State == i]\n",
    "    lm=LinearRegression().fit(temp[var], temp['Profit'])\n",
    "    pred=lm.predict(temp[var])\n",
    "    # Σ ( | y - y ̂ | / y ) * 100/n\n",
    "    mape=(abs(temp['Profit'] - pred)/temp['Profit']).sum() * 100 / len(temp)\n",
    "    q3_out.append([i, mape])\n",
    "    \n",
    "# 2.주별로 계산된 학습오차 중 MAPE 기준으로 가장 낮은 오차를 보이는 주는 어느\n",
    "# 주이고 그 값은 무엇인가?\n",
    "\n",
    "q3_out=pd.DataFrame(q3_out, columns=['state', 'mape'] )\n",
    "q3_out.loc[q3_out.mape.idxmin(),:]"
   ]
  },
  {
   "cell_type": "markdown",
   "id": "7cee5dff",
   "metadata": {},
   "source": [
    "## Set9"
   ]
  },
  {
   "cell_type": "code",
   "execution_count": 207,
   "id": "fed342dc",
   "metadata": {},
   "outputs": [
    {
     "data": {
      "text/html": [
       "<div>\n",
       "<style scoped>\n",
       "    .dataframe tbody tr th:only-of-type {\n",
       "        vertical-align: middle;\n",
       "    }\n",
       "\n",
       "    .dataframe tbody tr th {\n",
       "        vertical-align: top;\n",
       "    }\n",
       "\n",
       "    .dataframe thead th {\n",
       "        text-align: right;\n",
       "    }\n",
       "</style>\n",
       "<table border=\"1\" class=\"dataframe\">\n",
       "  <thead>\n",
       "    <tr style=\"text-align: right;\">\n",
       "      <th></th>\n",
       "      <th>satisfaction</th>\n",
       "      <th>Gender</th>\n",
       "      <th>Age</th>\n",
       "      <th>Customer_Type</th>\n",
       "      <th>Class</th>\n",
       "      <th>Flight_Distance</th>\n",
       "      <th>Seat_comfort</th>\n",
       "      <th>Food_and_drink</th>\n",
       "      <th>Inflight_wifi_service</th>\n",
       "      <th>Inflight_entertainment</th>\n",
       "      <th>Onboard_service</th>\n",
       "      <th>Leg_room_service</th>\n",
       "      <th>Baggage_handling</th>\n",
       "      <th>Cleanliness</th>\n",
       "      <th>Departure_Delay_in_Minutes</th>\n",
       "      <th>Arrival_Delay_in_Minutes</th>\n",
       "    </tr>\n",
       "  </thead>\n",
       "  <tbody>\n",
       "    <tr>\n",
       "      <th>0</th>\n",
       "      <td>satisfied</td>\n",
       "      <td>Female</td>\n",
       "      <td>19.0</td>\n",
       "      <td>Loyal Customer</td>\n",
       "      <td>Eco</td>\n",
       "      <td>1981.0</td>\n",
       "      <td>4.0</td>\n",
       "      <td>4.0</td>\n",
       "      <td>1.0</td>\n",
       "      <td>4.0</td>\n",
       "      <td>4.0</td>\n",
       "      <td>4.0</td>\n",
       "      <td>4.0</td>\n",
       "      <td>4.0</td>\n",
       "      <td>3.0</td>\n",
       "      <td>28.0</td>\n",
       "    </tr>\n",
       "    <tr>\n",
       "      <th>1</th>\n",
       "      <td>dissatisfied</td>\n",
       "      <td>Female</td>\n",
       "      <td>64.0</td>\n",
       "      <td>Loyal Customer</td>\n",
       "      <td>Eco</td>\n",
       "      <td>2847.0</td>\n",
       "      <td>1.0</td>\n",
       "      <td>1.0</td>\n",
       "      <td>1.0</td>\n",
       "      <td>2.0</td>\n",
       "      <td>5.0</td>\n",
       "      <td>3.0</td>\n",
       "      <td>4.0</td>\n",
       "      <td>4.0</td>\n",
       "      <td>111.0</td>\n",
       "      <td>133.0</td>\n",
       "    </tr>\n",
       "    <tr>\n",
       "      <th>2</th>\n",
       "      <td>dissatisfied</td>\n",
       "      <td>Male</td>\n",
       "      <td>55.0</td>\n",
       "      <td>Loyal Customer</td>\n",
       "      <td>Eco</td>\n",
       "      <td>3790.0</td>\n",
       "      <td>1.0</td>\n",
       "      <td>1.0</td>\n",
       "      <td>2.0</td>\n",
       "      <td>1.0</td>\n",
       "      <td>4.0</td>\n",
       "      <td>4.0</td>\n",
       "      <td>4.0</td>\n",
       "      <td>4.0</td>\n",
       "      <td>2.0</td>\n",
       "      <td>15.0</td>\n",
       "    </tr>\n",
       "    <tr>\n",
       "      <th>3</th>\n",
       "      <td>satisfied</td>\n",
       "      <td>Female</td>\n",
       "      <td>39.0</td>\n",
       "      <td>Loyal Customer</td>\n",
       "      <td>Eco</td>\n",
       "      <td>1741.0</td>\n",
       "      <td>4.0</td>\n",
       "      <td>4.0</td>\n",
       "      <td>5.0</td>\n",
       "      <td>4.0</td>\n",
       "      <td>1.0</td>\n",
       "      <td>1.0</td>\n",
       "      <td>5.0</td>\n",
       "      <td>5.0</td>\n",
       "      <td>2.0</td>\n",
       "      <td>0.0</td>\n",
       "    </tr>\n",
       "    <tr>\n",
       "      <th>4</th>\n",
       "      <td>dissatisfied</td>\n",
       "      <td>Female</td>\n",
       "      <td>29.0</td>\n",
       "      <td>Loyal Customer</td>\n",
       "      <td>Eco</td>\n",
       "      <td>3829.0</td>\n",
       "      <td>2.0</td>\n",
       "      <td>1.0</td>\n",
       "      <td>1.0</td>\n",
       "      <td>4.0</td>\n",
       "      <td>2.0</td>\n",
       "      <td>4.0</td>\n",
       "      <td>3.0</td>\n",
       "      <td>1.0</td>\n",
       "      <td>365.0</td>\n",
       "      <td>383.0</td>\n",
       "    </tr>\n",
       "  </tbody>\n",
       "</table>\n",
       "</div>"
      ],
      "text/plain": [
       "   satisfaction  Gender   Age   Customer_Type Class  Flight_Distance  \\\n",
       "0     satisfied  Female  19.0  Loyal Customer   Eco           1981.0   \n",
       "1  dissatisfied  Female  64.0  Loyal Customer   Eco           2847.0   \n",
       "2  dissatisfied    Male  55.0  Loyal Customer   Eco           3790.0   \n",
       "3     satisfied  Female  39.0  Loyal Customer   Eco           1741.0   \n",
       "4  dissatisfied  Female  29.0  Loyal Customer   Eco           3829.0   \n",
       "\n",
       "   Seat_comfort  Food_and_drink  Inflight_wifi_service  \\\n",
       "0           4.0             4.0                    1.0   \n",
       "1           1.0             1.0                    1.0   \n",
       "2           1.0             1.0                    2.0   \n",
       "3           4.0             4.0                    5.0   \n",
       "4           2.0             1.0                    1.0   \n",
       "\n",
       "   Inflight_entertainment  Onboard_service  Leg_room_service  \\\n",
       "0                     4.0              4.0               4.0   \n",
       "1                     2.0              5.0               3.0   \n",
       "2                     1.0              4.0               4.0   \n",
       "3                     4.0              1.0               1.0   \n",
       "4                     4.0              2.0               4.0   \n",
       "\n",
       "   Baggage_handling  Cleanliness  Departure_Delay_in_Minutes  \\\n",
       "0               4.0          4.0                         3.0   \n",
       "1               4.0          4.0                       111.0   \n",
       "2               4.0          4.0                         2.0   \n",
       "3               5.0          5.0                         2.0   \n",
       "4               3.0          1.0                       365.0   \n",
       "\n",
       "   Arrival_Delay_in_Minutes  \n",
       "0                      28.0  \n",
       "1                     133.0  \n",
       "2                      15.0  \n",
       "3                       0.0  \n",
       "4                     383.0  "
      ]
     },
     "execution_count": 207,
     "metadata": {},
     "output_type": "execute_result"
    }
   ],
   "source": [
    "df9 = pd.read_csv(path+'DataSet_09.csv')\n",
    "df9.head()"
   ]
  },
  {
   "cell_type": "code",
   "execution_count": 211,
   "id": "646150e6",
   "metadata": {},
   "outputs": [
    {
     "data": {
      "text/plain": [
       "5"
      ]
     },
     "execution_count": 211,
     "metadata": {},
     "output_type": "execute_result"
    }
   ],
   "source": [
    "# =============================================================================\n",
    "# 1. \n",
    "# =============================================================================\n",
    "df9.isna().sum().sum()"
   ]
  },
  {
   "cell_type": "code",
   "execution_count": 229,
   "id": "0c46c9bf",
   "metadata": {},
   "outputs": [
    {
     "name": "stdout",
     "output_type": "stream",
     "text": [
      "Gender, 1066\n"
     ]
    }
   ],
   "source": [
    "# =============================================================================\n",
    "# 2. X, chi2를 수행할 때는 crosstab 만들 것!!\n",
    "# =============================================================================\n",
    "from scipy.stats import chi2_contingency\n",
    "\n",
    "q2 = df9.dropna()\n",
    "q2['Age_gr']=np.where(q2.Age <= 20, 10,\n",
    "                np.where(q2.Age <= 30, 20,\n",
    "                   np.where(q2.Age <= 40, 30,\n",
    "                     np.where(q2.Age <= 50, 40,\n",
    "                       np.where(q2.Age <= 60, 50, 60)))))\n",
    "\n",
    "var_lst = ['Age_gr', 'Gender', 'Customer_Type', 'Class']\n",
    "# q2['Gender'] = q2['Gender'].replace('Male', 0).replace('Female', 1)\n",
    "\n",
    "for var in var_lst:\n",
    "    tab = pd.crosstab(index=q2[var], columns=q2['satisfaction'])\n",
    "    out = chi2_contingency(tab)\n",
    "    if out[1] < 0.05:\n",
    "        print(f'{var}, {np.floor(out[0]):.0f}')"
   ]
  },
  {
   "cell_type": "code",
   "execution_count": 236,
   "id": "b3bbc76f",
   "metadata": {},
   "outputs": [
    {
     "name": "stdout",
     "output_type": "stream",
     "text": [
      "0.749\n"
     ]
    }
   ],
   "source": [
    "# =============================================================================\n",
    "# 3. O\n",
    "# =============================================================================\n",
    "from sklearn.linear_model import LogisticRegression\n",
    "from sklearn.model_selection import train_test_split\n",
    "\n",
    "seed = 123\n",
    "df9 = df9.dropna()\n",
    "X = df9[['Flight_Distance', 'Seat_comfort', 'Food_and_drink', 'Inflight_wifi_service', \n",
    "'Inflight_entertainment','Onboard_service', 'Leg_room_service', 'Baggage_handling',\n",
    "'Cleanliness', 'Departure_Delay_in_Minutes', 'Arrival_Delay_in_Minutes']]\n",
    "y = df9[['satisfaction']]\n",
    "\n",
    "X_train, X_test, y_train, y_test = train_test_split(\n",
    "    X, y, random_state = seed, test_size = 0.3\n",
    ")\n",
    "\n",
    "lr = LogisticRegression().fit(X_train, y_train)\n",
    "\n",
    "from sklearn.metrics import f1_score\n",
    "pred = lr.predict(X_test)\n",
    "res3 = f1_score(y_test, pred, pos_label='dissatisfied')\n",
    "print(round(res3, 3))"
   ]
  },
  {
   "cell_type": "markdown",
   "id": "f5256e87",
   "metadata": {},
   "source": [
    "## Set10"
   ]
  },
  {
   "cell_type": "code",
   "execution_count": 2,
   "id": "b467ccea",
   "metadata": {},
   "outputs": [
    {
     "data": {
      "text/html": [
       "<div>\n",
       "<style scoped>\n",
       "    .dataframe tbody tr th:only-of-type {\n",
       "        vertical-align: middle;\n",
       "    }\n",
       "\n",
       "    .dataframe tbody tr th {\n",
       "        vertical-align: top;\n",
       "    }\n",
       "\n",
       "    .dataframe thead th {\n",
       "        text-align: right;\n",
       "    }\n",
       "</style>\n",
       "<table border=\"1\" class=\"dataframe\">\n",
       "  <thead>\n",
       "    <tr style=\"text-align: right;\">\n",
       "      <th></th>\n",
       "      <th>model</th>\n",
       "      <th>engine_power</th>\n",
       "      <th>age_in_days</th>\n",
       "      <th>km</th>\n",
       "      <th>previous_owners</th>\n",
       "      <th>price</th>\n",
       "    </tr>\n",
       "  </thead>\n",
       "  <tbody>\n",
       "    <tr>\n",
       "      <th>0</th>\n",
       "      <td>lounge</td>\n",
       "      <td>51</td>\n",
       "      <td>882</td>\n",
       "      <td>25000</td>\n",
       "      <td>1</td>\n",
       "      <td>8900</td>\n",
       "    </tr>\n",
       "    <tr>\n",
       "      <th>1</th>\n",
       "      <td>pop</td>\n",
       "      <td>51</td>\n",
       "      <td>1186</td>\n",
       "      <td>32500</td>\n",
       "      <td>1</td>\n",
       "      <td>8800</td>\n",
       "    </tr>\n",
       "    <tr>\n",
       "      <th>2</th>\n",
       "      <td>sport</td>\n",
       "      <td>74</td>\n",
       "      <td>4658</td>\n",
       "      <td>142228</td>\n",
       "      <td>1</td>\n",
       "      <td>4200</td>\n",
       "    </tr>\n",
       "    <tr>\n",
       "      <th>3</th>\n",
       "      <td>lounge</td>\n",
       "      <td>51</td>\n",
       "      <td>2739</td>\n",
       "      <td>160000</td>\n",
       "      <td>1</td>\n",
       "      <td>6000</td>\n",
       "    </tr>\n",
       "    <tr>\n",
       "      <th>4</th>\n",
       "      <td>pop</td>\n",
       "      <td>73</td>\n",
       "      <td>3074</td>\n",
       "      <td>106880</td>\n",
       "      <td>1</td>\n",
       "      <td>5700</td>\n",
       "    </tr>\n",
       "  </tbody>\n",
       "</table>\n",
       "</div>"
      ],
      "text/plain": [
       "    model  engine_power  age_in_days      km  previous_owners  price\n",
       "0  lounge            51          882   25000                1   8900\n",
       "1     pop            51         1186   32500                1   8800\n",
       "2   sport            74         4658  142228                1   4200\n",
       "3  lounge            51         2739  160000                1   6000\n",
       "4     pop            73         3074  106880                1   5700"
      ]
     },
     "execution_count": 2,
     "metadata": {},
     "output_type": "execute_result"
    }
   ],
   "source": [
    "df10 = pd.read_csv(path+'DataSet_10.csv')\n",
    "df10 = df10.dropna(axis=1)\n",
    "df10.head()"
   ]
  },
  {
   "cell_type": "code",
   "execution_count": 39,
   "id": "271aac22",
   "metadata": {},
   "outputs": [
    {
     "data": {
      "text/plain": [
       "km/day    0.98\n",
       "dtype: float64"
      ]
     },
     "execution_count": 39,
     "metadata": {},
     "output_type": "execute_result"
    }
   ],
   "source": [
    "# =============================================================================\n",
    "# 1. O\n",
    "# =============================================================================\n",
    "q1 = df10[(df10['previous_owners']==1)&(df10['engine_power']==51)]\n",
    "\n",
    "q1['km/day'] = q1['km']/q1['age_in_days']\n",
    "tab = q1.groupby('model')[['km/day']].mean()\n",
    "round(tab.min()/tab.max(), 2)"
   ]
  },
  {
   "cell_type": "code",
   "execution_count": 47,
   "id": "683d7a1b",
   "metadata": {},
   "outputs": [
    {
     "name": "stdout",
     "output_type": "stream",
     "text": [
      "[0.48], N\n"
     ]
    }
   ],
   "source": [
    "# =============================================================================\n",
    "# 2. O\n",
    "# =============================================================================\n",
    "# lounge, pop\n",
    "q2 = df10.copy()\n",
    "q2['km/day'] = q2['km']/q2['age_in_days']\n",
    "\n",
    "from scipy.stats import ttest_ind\n",
    "\n",
    "lounge = q2[q2['model']==tab['km/day'].idxmax()][['km/day']].dropna()\n",
    "pop = q2[q2['model']==tab['km/day'].idxmin()][['km/day']].dropna()\n",
    "\n",
    "out = ttest_ind(lounge, pop, equal_var=True)\n",
    "\n",
    "if out[1] < 0.05:\n",
    "    res = 'Y'\n",
    "else:\n",
    "    res = 'N'\n",
    "print(f'{np.floor(out[1]*100)/100}, {res}')"
   ]
  },
  {
   "cell_type": "code",
   "execution_count": 81,
   "id": "5b5270b2",
   "metadata": {},
   "outputs": [
    {
     "name": "stdout",
     "output_type": "stream",
     "text": [
      "10469\n"
     ]
    }
   ],
   "source": [
    "# =============================================================================\n",
    "# 3. X\n",
    "# =============================================================================\n",
    "X = df10[['engine_power', 'age_in_days', 'km']]\n",
    "y = df10[['price']]\n",
    "\n",
    "from sklearn.linear_model import LinearRegression\n",
    "\n",
    "lr = LinearRegression().fit(X, y)\n",
    "res3 = lr.predict([[51, 400, 9500]])\n",
    "print(f'{np.floor(res3)[0][0]:.0f}')"
   ]
  }
 ],
 "metadata": {
  "kernelspec": {
   "display_name": "Python 3 (ipykernel)",
   "language": "python",
   "name": "python3"
  },
  "language_info": {
   "codemirror_mode": {
    "name": "ipython",
    "version": 3
   },
   "file_extension": ".py",
   "mimetype": "text/x-python",
   "name": "python",
   "nbconvert_exporter": "python",
   "pygments_lexer": "ipython3",
   "version": "3.9.7"
  }
 },
 "nbformat": 4,
 "nbformat_minor": 5
}
